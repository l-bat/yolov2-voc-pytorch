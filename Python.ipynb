{
  "nbformat": 4,
  "nbformat_minor": 0,
  "metadata": {
    "colab": {
      "name": "Untitled0.ipynb",
      "version": "0.3.2",
      "provenance": [],
      "collapsed_sections": [
        "JVNqR1sawLNz",
        "3QGCag9K8IM7",
        "Zu2vT9NGCTUU",
        "BqCWxz1mDrHF"
      ],
      "include_colab_link": true
    },
    "kernelspec": {
      "name": "python3",
      "display_name": "Python 3"
    }
  },
  "cells": [
    {
      "cell_type": "markdown",
      "metadata": {
        "id": "view-in-github",
        "colab_type": "text"
      },
      "source": [
        "<a href=\"https://colab.research.google.com/github/l-bat/yolov2-voc-pytorch/blob/master/Python.ipynb\" target=\"_parent\"><img src=\"https://colab.research.google.com/assets/colab-badge.svg\" alt=\"Open In Colab\"/></a>"
      ]
    },
    {
      "cell_type": "markdown",
      "metadata": {
        "id": "VWDG885R9LfR",
        "colab_type": "text"
      },
      "source": [
        "# Numpy"
      ]
    },
    {
      "cell_type": "markdown",
      "metadata": {
        "id": "YVuZpztx9X2c",
        "colab_type": "text"
      },
      "source": [
        "NumPy — пакет для Python, предоставляющий удобный интерфейс для работы с данными. Основная часть пакета — класс ndarray, представляющий собой 𝑛-мерный массив. "
      ]
    },
    {
      "cell_type": "code",
      "metadata": {
        "id": "ywx2Poek9ro2",
        "colab_type": "code",
        "colab": {}
      },
      "source": [
        "import numpy as np"
      ],
      "execution_count": 0,
      "outputs": []
    },
    {
      "cell_type": "code",
      "metadata": {
        "id": "fD1YJkZf9zsu",
        "colab_type": "code",
        "colab": {}
      },
      "source": [
        "a = np.array([[1,2,3], [4,5,6]])"
      ],
      "execution_count": 0,
      "outputs": []
    },
    {
      "cell_type": "code",
      "metadata": {
        "id": "s2FSvkwA942u",
        "colab_type": "code",
        "outputId": "881a1a3a-b6a1-4573-c6ec-0c3d04a35ede",
        "colab": {
          "base_uri": "https://localhost:8080/",
          "height": 52
        }
      },
      "source": [
        "a"
      ],
      "execution_count": 48,
      "outputs": [
        {
          "output_type": "execute_result",
          "data": {
            "text/plain": [
              "array([[1, 2, 3],\n",
              "       [4, 5, 6]])"
            ]
          },
          "metadata": {
            "tags": []
          },
          "execution_count": 48
        }
      ]
    },
    {
      "cell_type": "markdown",
      "metadata": {
        "id": "7CkG-ntQ-Cmu",
        "colab_type": "text"
      },
      "source": [
        "Как по другому создать такой же массив?"
      ]
    },
    {
      "cell_type": "code",
      "metadata": {
        "id": "OuHRbVZ2-IbZ",
        "colab_type": "code",
        "colab": {}
      },
      "source": [
        "b = np.arange(1, 7).reshape(2, 3)"
      ],
      "execution_count": 0,
      "outputs": []
    },
    {
      "cell_type": "code",
      "metadata": {
        "id": "tDkrCOwp9_ht",
        "colab_type": "code",
        "outputId": "81fb5347-6050-487f-ab6f-bf9f272e0918",
        "colab": {
          "base_uri": "https://localhost:8080/",
          "height": 52
        }
      },
      "source": [
        "b"
      ],
      "execution_count": 50,
      "outputs": [
        {
          "output_type": "execute_result",
          "data": {
            "text/plain": [
              "array([[1, 2, 3],\n",
              "       [4, 5, 6]])"
            ]
          },
          "metadata": {
            "tags": []
          },
          "execution_count": 50
        }
      ]
    },
    {
      "cell_type": "code",
      "metadata": {
        "id": "5pUtTYkH-LgI",
        "colab_type": "code",
        "outputId": "37e8a341-e37c-4af1-a948-bf445414277b",
        "colab": {
          "base_uri": "https://localhost:8080/",
          "height": 52
        }
      },
      "source": [
        "a == b"
      ],
      "execution_count": 51,
      "outputs": [
        {
          "output_type": "execute_result",
          "data": {
            "text/plain": [
              "array([[ True,  True,  True],\n",
              "       [ True,  True,  True]])"
            ]
          },
          "metadata": {
            "tags": []
          },
          "execution_count": 51
        }
      ]
    },
    {
      "cell_type": "code",
      "metadata": {
        "id": "U_BGJHig-W4s",
        "colab_type": "code",
        "outputId": "88c76829-cb94-46ec-f4ec-e2f84c634a0f",
        "colab": {
          "base_uri": "https://localhost:8080/",
          "height": 52
        }
      },
      "source": [
        "np.equal(a, b)"
      ],
      "execution_count": 52,
      "outputs": [
        {
          "output_type": "execute_result",
          "data": {
            "text/plain": [
              "array([[ True,  True,  True],\n",
              "       [ True,  True,  True]])"
            ]
          },
          "metadata": {
            "tags": []
          },
          "execution_count": 52
        }
      ]
    },
    {
      "cell_type": "markdown",
      "metadata": {
        "id": "DrjzVLSBBmer",
        "colab_type": "text"
      },
      "source": [
        "Сгенерируем индексы элементов массива"
      ]
    },
    {
      "cell_type": "code",
      "metadata": {
        "id": "J5jZkJ4AANxq",
        "colab_type": "code",
        "colab": {}
      },
      "source": [
        "ind = np.random.randint(1, 10, size=5)"
      ],
      "execution_count": 0,
      "outputs": []
    },
    {
      "cell_type": "code",
      "metadata": {
        "id": "QfV98zjFAXH2",
        "colab_type": "code",
        "outputId": "32a8ff3d-7ce6-495f-de17-863d3dc2a1bf",
        "colab": {
          "base_uri": "https://localhost:8080/",
          "height": 34
        }
      },
      "source": [
        "ind"
      ],
      "execution_count": 54,
      "outputs": [
        {
          "output_type": "execute_result",
          "data": {
            "text/plain": [
              "array([3, 4, 8, 6, 8])"
            ]
          },
          "metadata": {
            "tags": []
          },
          "execution_count": 54
        }
      ]
    },
    {
      "cell_type": "markdown",
      "metadata": {
        "id": "lZWttWIcBqTZ",
        "colab_type": "text"
      },
      "source": [
        "Какие недостатки у данного подхода?"
      ]
    },
    {
      "cell_type": "markdown",
      "metadata": {
        "id": "g3FCkScgCCgx",
        "colab_type": "text"
      },
      "source": [
        "Выбор с повторениями"
      ]
    },
    {
      "cell_type": "code",
      "metadata": {
        "id": "mDGcGypLBuZt",
        "colab_type": "code",
        "colab": {}
      },
      "source": [
        "ind = np.arange(10)\n",
        "np.random.shuffle(ind)\n",
        "ind = ind[:5]"
      ],
      "execution_count": 0,
      "outputs": []
    },
    {
      "cell_type": "code",
      "metadata": {
        "id": "M3m-tq26B1yn",
        "colab_type": "code",
        "colab": {
          "base_uri": "https://localhost:8080/",
          "height": 34
        },
        "outputId": "aa9099d1-b64c-4298-f8c0-4f03e5d2c378"
      },
      "source": [
        "ind"
      ],
      "execution_count": 56,
      "outputs": [
        {
          "output_type": "execute_result",
          "data": {
            "text/plain": [
              "array([6, 3, 4, 9, 5])"
            ]
          },
          "metadata": {
            "tags": []
          },
          "execution_count": 56
        }
      ]
    },
    {
      "cell_type": "code",
      "metadata": {
        "id": "J-q9bCwXAzmu",
        "colab_type": "code",
        "colab": {}
      },
      "source": [
        "arr = np.arange(0, 10).reshape(-1)"
      ],
      "execution_count": 0,
      "outputs": []
    },
    {
      "cell_type": "code",
      "metadata": {
        "id": "hYEIK8wEBEsT",
        "colab_type": "code",
        "outputId": "fad24766-6643-4225-b8b8-ac781e48c2c4",
        "colab": {
          "base_uri": "https://localhost:8080/",
          "height": 34
        }
      },
      "source": [
        "arr"
      ],
      "execution_count": 58,
      "outputs": [
        {
          "output_type": "execute_result",
          "data": {
            "text/plain": [
              "array([0, 1, 2, 3, 4, 5, 6, 7, 8, 9])"
            ]
          },
          "metadata": {
            "tags": []
          },
          "execution_count": 58
        }
      ]
    },
    {
      "cell_type": "markdown",
      "metadata": {
        "id": "krOh5cE7B-I-",
        "colab_type": "text"
      },
      "source": [
        "Как получить массив элементов, стоящих на указанных позициях ind?"
      ]
    },
    {
      "cell_type": "code",
      "metadata": {
        "id": "z_--KchNDmx8",
        "colab_type": "code",
        "colab": {}
      },
      "source": [
        "res = []\n",
        "for i in ind:\n",
        "  res = np.append(res, arr[i])"
      ],
      "execution_count": 0,
      "outputs": []
    },
    {
      "cell_type": "code",
      "metadata": {
        "id": "RsAxJogTD87s",
        "colab_type": "code",
        "outputId": "5da94195-c118-44f5-92c1-b38c5bbd387f",
        "colab": {
          "base_uri": "https://localhost:8080/",
          "height": 34
        }
      },
      "source": [
        "res"
      ],
      "execution_count": 72,
      "outputs": [
        {
          "output_type": "execute_result",
          "data": {
            "text/plain": [
              "array([6., 3., 4., 9., 5.])"
            ]
          },
          "metadata": {
            "tags": []
          },
          "execution_count": 72
        }
      ]
    },
    {
      "cell_type": "markdown",
      "metadata": {
        "id": "itJdvYFgEtsw",
        "colab_type": "text"
      },
      "source": [
        "А с помощью numpy?"
      ]
    },
    {
      "cell_type": "code",
      "metadata": {
        "id": "JNzcT2WrA6ju",
        "colab_type": "code",
        "outputId": "286e7e8a-3242-480b-cdb0-fda4ee04bd9b",
        "colab": {
          "base_uri": "https://localhost:8080/",
          "height": 34
        }
      },
      "source": [
        "arr[ind]"
      ],
      "execution_count": 74,
      "outputs": [
        {
          "output_type": "execute_result",
          "data": {
            "text/plain": [
              "array([6, 3, 4, 9, 5])"
            ]
          },
          "metadata": {
            "tags": []
          },
          "execution_count": 74
        }
      ]
    },
    {
      "cell_type": "code",
      "metadata": {
        "id": "6hKM2MQ-8aAX",
        "colab_type": "code",
        "colab": {}
      },
      "source": [
        "mat = arr.reshape(int(arr.size/2), -1)"
      ],
      "execution_count": 0,
      "outputs": []
    },
    {
      "cell_type": "code",
      "metadata": {
        "id": "se_-aR_R8nTA",
        "colab_type": "code",
        "outputId": "baa90060-1119-4a03-fe32-da8b9c297917",
        "colab": {
          "base_uri": "https://localhost:8080/",
          "height": 712
        }
      },
      "source": [
        "mat"
      ],
      "execution_count": 0,
      "outputs": [
        {
          "output_type": "execute_result",
          "data": {
            "text/plain": [
              "array([[ 0,  1],\n",
              "       [ 2,  3],\n",
              "       [ 4,  5],\n",
              "       [ 6,  7],\n",
              "       [ 8,  9],\n",
              "       [10, 11],\n",
              "       [12, 13],\n",
              "       [14, 15],\n",
              "       [16, 17],\n",
              "       [18, 19],\n",
              "       [20, 21],\n",
              "       [22, 23],\n",
              "       [24, 25],\n",
              "       [26, 27],\n",
              "       [28, 29],\n",
              "       [30, 31],\n",
              "       [32, 33],\n",
              "       [34, 35],\n",
              "       [36, 37],\n",
              "       [38, 39],\n",
              "       [ 0,  1],\n",
              "       [ 2,  3],\n",
              "       [ 4,  5],\n",
              "       [ 6,  7],\n",
              "       [ 8,  9],\n",
              "       [10, 11],\n",
              "       [12, 13],\n",
              "       [14, 15],\n",
              "       [16, 17],\n",
              "       [18, 19],\n",
              "       [20, 21],\n",
              "       [22, 23],\n",
              "       [24, 25],\n",
              "       [26, 27],\n",
              "       [28, 29],\n",
              "       [30, 31],\n",
              "       [32, 33],\n",
              "       [34, 35],\n",
              "       [36, 37],\n",
              "       [38, 39]])"
            ]
          },
          "metadata": {
            "tags": []
          },
          "execution_count": 32
        }
      ]
    },
    {
      "cell_type": "code",
      "metadata": {
        "id": "WHZUnItsBnd_",
        "colab_type": "code",
        "outputId": "a0a916a8-e89c-41bf-e032-d3d114e8c94f",
        "colab": {
          "base_uri": "https://localhost:8080/",
          "height": 34
        }
      },
      "source": [
        "mat.shape"
      ],
      "execution_count": 0,
      "outputs": [
        {
          "output_type": "execute_result",
          "data": {
            "text/plain": [
              "(40, 2)"
            ]
          },
          "metadata": {
            "tags": []
          },
          "execution_count": 45
        }
      ]
    },
    {
      "cell_type": "markdown",
      "metadata": {
        "id": "AM5e1uS6E-eW",
        "colab_type": "text"
      },
      "source": [
        "Есть ли разница между $mat[i][j]$ и $mat[i, j]$?"
      ]
    },
    {
      "cell_type": "code",
      "metadata": {
        "id": "N8HisdaZ9aVt",
        "colab_type": "code",
        "outputId": "ca859df5-0193-4c14-dc5c-e73ca484fdce",
        "colab": {
          "base_uri": "https://localhost:8080/",
          "height": 34
        }
      },
      "source": [
        "mat[1, 0] == mat[1][0]"
      ],
      "execution_count": 0,
      "outputs": [
        {
          "output_type": "execute_result",
          "data": {
            "text/plain": [
              "True"
            ]
          },
          "metadata": {
            "tags": []
          },
          "execution_count": 33
        }
      ]
    },
    {
      "cell_type": "markdown",
      "metadata": {
        "id": "uYNUO32gAhIc",
        "colab_type": "text"
      },
      "source": [
        "Когда индексов меньше, чем осей, отсутствующие индексы предполагаются дополненными с помощью срезов:"
      ]
    },
    {
      "cell_type": "code",
      "metadata": {
        "id": "meOdU50KAg4E",
        "colab_type": "code",
        "outputId": "af71d995-a753-497b-e7d0-5a8c110fda3b",
        "colab": {
          "base_uri": "https://localhost:8080/",
          "height": 34
        }
      },
      "source": [
        "# Последняя строка. Эквивалентно mat[-1,:]\n",
        "mat[-1]"
      ],
      "execution_count": 0,
      "outputs": [
        {
          "output_type": "execute_result",
          "data": {
            "text/plain": [
              "array([38, 39])"
            ]
          },
          "metadata": {
            "tags": []
          },
          "execution_count": 41
        }
      ]
    },
    {
      "cell_type": "code",
      "metadata": {
        "id": "TKlZAa_TAxUi",
        "colab_type": "code",
        "outputId": "be730eb2-c944-48f4-87f4-47352546476f",
        "colab": {
          "base_uri": "https://localhost:8080/",
          "height": 69
        }
      },
      "source": [
        "# тоже самое, что и mat[:,1] \n",
        "mat[..., 1]"
      ],
      "execution_count": 0,
      "outputs": [
        {
          "output_type": "execute_result",
          "data": {
            "text/plain": [
              "array([ 3,  1,  5,  7,  9, 11, 13, 15, 17, 19, 21, 23, 25, 27, 29, 31, 33,\n",
              "       35, 37, 39,  1,  3,  5,  7,  9, 11, 13, 15, 17, 19, 21, 23, 25, 27,\n",
              "       29, 31, 33, 35, 37, 39])"
            ]
          },
          "metadata": {
            "tags": []
          },
          "execution_count": 42
        }
      ]
    },
    {
      "cell_type": "markdown",
      "metadata": {
        "id": "TCYXpAOr8x-z",
        "colab_type": "text"
      },
      "source": [
        "Как поменять 2 строки в матрице?"
      ]
    },
    {
      "cell_type": "code",
      "metadata": {
        "id": "3Yvm79xl-k-b",
        "colab_type": "code",
        "colab": {}
      },
      "source": [
        "mat[[0, 1]] = mat[[1, 0]]"
      ],
      "execution_count": 0,
      "outputs": []
    },
    {
      "cell_type": "code",
      "metadata": {
        "id": "9J9ffJqp9rqK",
        "colab_type": "code",
        "outputId": "e5eca759-f480-40fa-c7ce-4367721b65d4",
        "colab": {
          "base_uri": "https://localhost:8080/",
          "height": 712
        }
      },
      "source": [
        "mat"
      ],
      "execution_count": 0,
      "outputs": [
        {
          "output_type": "execute_result",
          "data": {
            "text/plain": [
              "array([[ 2,  3],\n",
              "       [ 0,  1],\n",
              "       [ 4,  5],\n",
              "       [ 6,  7],\n",
              "       [ 8,  9],\n",
              "       [10, 11],\n",
              "       [12, 13],\n",
              "       [14, 15],\n",
              "       [16, 17],\n",
              "       [18, 19],\n",
              "       [20, 21],\n",
              "       [22, 23],\n",
              "       [24, 25],\n",
              "       [26, 27],\n",
              "       [28, 29],\n",
              "       [30, 31],\n",
              "       [32, 33],\n",
              "       [34, 35],\n",
              "       [36, 37],\n",
              "       [38, 39],\n",
              "       [ 0,  1],\n",
              "       [ 2,  3],\n",
              "       [ 4,  5],\n",
              "       [ 6,  7],\n",
              "       [ 8,  9],\n",
              "       [10, 11],\n",
              "       [12, 13],\n",
              "       [14, 15],\n",
              "       [16, 17],\n",
              "       [18, 19],\n",
              "       [20, 21],\n",
              "       [22, 23],\n",
              "       [24, 25],\n",
              "       [26, 27],\n",
              "       [28, 29],\n",
              "       [30, 31],\n",
              "       [32, 33],\n",
              "       [34, 35],\n",
              "       [36, 37],\n",
              "       [38, 39]])"
            ]
          },
          "metadata": {
            "tags": []
          },
          "execution_count": 35
        }
      ]
    },
    {
      "cell_type": "markdown",
      "metadata": {
        "id": "GRZ_uCsA_RDW",
        "colab_type": "text"
      },
      "source": [
        " Математические операции между массивом и числом к каждому элементу применяют эту операцию."
      ]
    },
    {
      "cell_type": "code",
      "metadata": {
        "id": "8AkUqdPD_NVu",
        "colab_type": "code",
        "outputId": "799e075c-09d4-4e44-9656-115939aa85ce",
        "colab": {
          "base_uri": "https://localhost:8080/",
          "height": 173
        }
      },
      "source": [
        "arr ** 3"
      ],
      "execution_count": 0,
      "outputs": [
        {
          "output_type": "execute_result",
          "data": {
            "text/plain": [
              "array([    8,    27,     0,     1,    64,   125,   216,   343,   512,\n",
              "         729,  1000,  1331,  1728,  2197,  2744,  3375,  4096,  4913,\n",
              "        5832,  6859,  8000,  9261, 10648, 12167, 13824, 15625, 17576,\n",
              "       19683, 21952, 24389, 27000, 29791, 32768, 35937, 39304, 42875,\n",
              "       46656, 50653, 54872, 59319,     0,     1,     8,    27,    64,\n",
              "         125,   216,   343,   512,   729,  1000,  1331,  1728,  2197,\n",
              "        2744,  3375,  4096,  4913,  5832,  6859,  8000,  9261, 10648,\n",
              "       12167, 13824, 15625, 17576, 19683, 21952, 24389, 27000, 29791,\n",
              "       32768, 35937, 39304, 42875, 46656, 50653, 54872, 59319])"
            ]
          },
          "metadata": {
            "tags": []
          },
          "execution_count": 36
        }
      ]
    },
    {
      "cell_type": "markdown",
      "metadata": {
        "id": "h_d1sWRo_nxf",
        "colab_type": "text"
      },
      "source": [
        "NumPy также предоставляет множество математических операций для обработки массивов. Многие унарные операции представлены также и в виде методов класса ndarray."
      ]
    },
    {
      "cell_type": "code",
      "metadata": {
        "id": "zfzViH9Y_u6R",
        "colab_type": "code",
        "outputId": "ee57d288-2193-4665-fce9-9baceb7c8735",
        "colab": {
          "base_uri": "https://localhost:8080/",
          "height": 34
        }
      },
      "source": [
        "np.sum(a)"
      ],
      "execution_count": 0,
      "outputs": [
        {
          "output_type": "execute_result",
          "data": {
            "text/plain": [
              "55"
            ]
          },
          "metadata": {
            "tags": []
          },
          "execution_count": 37
        }
      ]
    },
    {
      "cell_type": "code",
      "metadata": {
        "id": "crfpcc5x_6k8",
        "colab_type": "code",
        "outputId": "3100bb0e-ff77-4baa-8af6-8621247557ce",
        "colab": {
          "base_uri": "https://localhost:8080/",
          "height": 34
        }
      },
      "source": [
        "a.sum()"
      ],
      "execution_count": 0,
      "outputs": [
        {
          "output_type": "execute_result",
          "data": {
            "text/plain": [
              "55"
            ]
          },
          "metadata": {
            "tags": []
          },
          "execution_count": 38
        }
      ]
    },
    {
      "cell_type": "markdown",
      "metadata": {
        "id": "4k-Wbzm4AC_V",
        "colab_type": "text"
      },
      "source": [
        "По умолчанию, эти операции применяются к массиву, как если бы он был списком чисел, независимо от его формы. Однако, указав параметр axis, можно применить операцию для указанной оси массива:"
      ]
    },
    {
      "cell_type": "code",
      "metadata": {
        "id": "grAl62Tk_zTH",
        "colab_type": "code",
        "outputId": "4275ca9d-53a7-4e57-d8e3-1f65b2af3550",
        "colab": {
          "base_uri": "https://localhost:8080/",
          "height": 34
        }
      },
      "source": [
        "# Наименьшее число в каждом столбце\n",
        "a.min(axis=0)"
      ],
      "execution_count": 0,
      "outputs": [
        {
          "output_type": "execute_result",
          "data": {
            "text/plain": [
              "array([4, 2, 0])"
            ]
          },
          "metadata": {
            "tags": []
          },
          "execution_count": 39
        }
      ]
    },
    {
      "cell_type": "code",
      "metadata": {
        "id": "ZtdztmZsBa0I",
        "colab_type": "code",
        "outputId": "75386e52-5312-4ed3-b194-83fc717fda0a",
        "colab": {
          "base_uri": "https://localhost:8080/",
          "height": 34
        }
      },
      "source": [
        "# Индексы наименьших чисел в каждом столбце\n",
        "a.argmin(axis=0)"
      ],
      "execution_count": 0,
      "outputs": [
        {
          "output_type": "execute_result",
          "data": {
            "text/plain": [
              "array([2, 3, 1])"
            ]
          },
          "metadata": {
            "tags": []
          },
          "execution_count": 44
        }
      ]
    },
    {
      "cell_type": "code",
      "metadata": {
        "id": "XFjqu-N5AJDZ",
        "colab_type": "code",
        "outputId": "9c80fe82-e63a-4a26-fc6c-4883837edfe3",
        "colab": {
          "base_uri": "https://localhost:8080/",
          "height": 34
        }
      },
      "source": [
        "# Наибольшее число в каждой строке\n",
        "a.max(axis=1)"
      ],
      "execution_count": 0,
      "outputs": [
        {
          "output_type": "execute_result",
          "data": {
            "text/plain": [
              "array([9, 7, 4, 8])"
            ]
          },
          "metadata": {
            "tags": []
          },
          "execution_count": 40
        }
      ]
    },
    {
      "cell_type": "code",
      "metadata": {
        "id": "x72HwEjsCcQy",
        "colab_type": "code",
        "colab": {}
      },
      "source": [
        "arr = np.random.randint(0, 3, size=7)"
      ],
      "execution_count": 0,
      "outputs": []
    },
    {
      "cell_type": "code",
      "metadata": {
        "id": "-Q_hcCIQDFYD",
        "colab_type": "code",
        "outputId": "cddab34f-46e0-4c95-b9c7-8f0058cc11de",
        "colab": {
          "base_uri": "https://localhost:8080/",
          "height": 34
        }
      },
      "source": [
        "arr"
      ],
      "execution_count": 0,
      "outputs": [
        {
          "output_type": "execute_result",
          "data": {
            "text/plain": [
              "array([0, 2, 0, 2, 0, 1, 2])"
            ]
          },
          "metadata": {
            "tags": []
          },
          "execution_count": 48
        }
      ]
    },
    {
      "cell_type": "markdown",
      "metadata": {
        "id": "uOx02RSwDcjs",
        "colab_type": "text"
      },
      "source": [
        " numpy.where -  возвращает указатели, в которых условие равно True."
      ]
    },
    {
      "cell_type": "code",
      "metadata": {
        "id": "tdmt-kZcDHS2",
        "colab_type": "code",
        "outputId": "db8cecae-f227-4fc5-f3d9-748b04674430",
        "colab": {
          "base_uri": "https://localhost:8080/",
          "height": 34
        }
      },
      "source": [
        "np.where(arr == 0)"
      ],
      "execution_count": 0,
      "outputs": [
        {
          "output_type": "execute_result",
          "data": {
            "text/plain": [
              "(array([0, 2, 4]),)"
            ]
          },
          "metadata": {
            "tags": []
          },
          "execution_count": 50
        }
      ]
    },
    {
      "cell_type": "markdown",
      "metadata": {
        "id": "76mSNB53Bw5g",
        "colab_type": "text"
      },
      "source": [
        "### Реализуйте функцию, принимающую  матрицу mat и некоторое вещественное число $a$ и возвращающую ближайший к числу элемент матрицы.\n",
        "\n",
        "$mat = np.array([[1, 2, 3], [4, 5, 6]])$ и $a = 6.7$ ответом будет 7."
      ]
    },
    {
      "cell_type": "code",
      "metadata": {
        "id": "GAgcJ_NYCHWk",
        "colab_type": "code",
        "colab": {}
      },
      "source": [
        "def nearest_value(mat, a):\n",
        "    idx = np.abs(X - a).argmin()\n",
        "    row = idx // X.shape[0]\n",
        "    col = idx - row * X.shape[1]\n",
        "    return X[row, col]\n",
        "  # code"
      ],
      "execution_count": 0,
      "outputs": []
    },
    {
      "cell_type": "markdown",
      "metadata": {
        "id": "8gL2SNhVGKQl",
        "colab_type": "text"
      },
      "source": [
        "### Реализуйте функцию, принимающую  матрицу mat и возвращающую все её уникальные строки.  "
      ]
    },
    {
      "cell_type": "code",
      "metadata": {
        "id": "_1y6cArpGU9g",
        "colab_type": "code",
        "colab": {}
      },
      "source": [
        "def get_unique_rows(X):\n",
        "    uniqueValues, occurCount = np.unique(X, axis=0, return_counts=True)\n",
        "    indices = np.where(occurCount == 1)\n",
        "    return uniqueValues[indices]"
      ],
      "execution_count": 0,
      "outputs": []
    },
    {
      "cell_type": "markdown",
      "metadata": {
        "id": "COmnyRDwCdBp",
        "colab_type": "text"
      },
      "source": [
        "### Реализуйте функцию, которая на вход принимает одномерный массив ```arr```, содержащий целые числа, кроме 0, а возвращает вектор со вставленными нулями между числами.\n"
      ]
    },
    {
      "cell_type": "code",
      "metadata": {
        "id": "uImtCKwKCnRx",
        "colab_type": "code",
        "colab": {}
      },
      "source": [
        "def add_zeros(x):\n",
        "  z = np.zeros((2 * x.size - 1),dtype=x.dtype)\n",
        "  z[::2] = x\n",
        "  return z \n",
        "  # code"
      ],
      "execution_count": 0,
      "outputs": []
    },
    {
      "cell_type": "markdown",
      "metadata": {
        "id": "JVNqR1sawLNz",
        "colab_type": "text"
      },
      "source": [
        "# **Pandas**"
      ]
    },
    {
      "cell_type": "markdown",
      "metadata": {
        "id": "9PVgwgi2v-TV",
        "colab_type": "text"
      },
      "source": [
        "![](https://static.independent.co.uk/s3fs-public/thumbnails/image/2019/01/31/14/panda-bamboo.jpg)"
      ]
    },
    {
      "cell_type": "code",
      "metadata": {
        "id": "Fflw-etwq9In",
        "colab_type": "code",
        "colab": {}
      },
      "source": [
        "import pandas as pd\n",
        "\n",
        "from google.colab import files\n",
        "import io"
      ],
      "execution_count": 0,
      "outputs": []
    },
    {
      "cell_type": "code",
      "metadata": {
        "id": "ulcb-GRPrem5",
        "colab_type": "code",
        "outputId": "0b6ec991-3b2c-4115-f007-f8a8f4f46674",
        "colab": {
          "resources": {
            "http://localhost:8080/nbextensions/google.colab/files.js": {
              "data": "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",
              "ok": true,
              "headers": [
                [
                  "content-type",
                  "application/javascript"
                ]
              ],
              "status": 200,
              "status_text": "OK"
            }
          },
          "base_uri": "https://localhost:8080/",
          "height": 80
        }
      },
      "source": [
        "uploaded = files.upload()"
      ],
      "execution_count": 0,
      "outputs": [
        {
          "output_type": "display_data",
          "data": {
            "text/html": [
              "\n",
              "     <input type=\"file\" id=\"files-1e201798-dafa-4b80-867c-82842245de85\" name=\"files[]\" multiple disabled />\n",
              "     <output id=\"result-1e201798-dafa-4b80-867c-82842245de85\">\n",
              "      Upload widget is only available when the cell has been executed in the\n",
              "      current browser session. Please rerun this cell to enable.\n",
              "      </output>\n",
              "      <script src=\"/nbextensions/google.colab/files.js\"></script> "
            ],
            "text/plain": [
              "<IPython.core.display.HTML object>"
            ]
          },
          "metadata": {
            "tags": []
          }
        },
        {
          "output_type": "stream",
          "text": [
            "Saving coins.csv to coins.csv\n"
          ],
          "name": "stdout"
        }
      ]
    },
    {
      "cell_type": "code",
      "metadata": {
        "id": "zkk_Uv6ZwFUs",
        "colab_type": "code",
        "outputId": "360e1dbe-9f07-4010-a360-784e2bbfe58b",
        "colab": {
          "base_uri": "https://localhost:8080/",
          "height": 206
        }
      },
      "source": [
        "coins = pd.read_csv('coins.csv')\n",
        "coins.head()"
      ],
      "execution_count": 0,
      "outputs": [
        {
          "output_type": "execute_result",
          "data": {
            "text/html": [
              "<div>\n",
              "<style scoped>\n",
              "    .dataframe tbody tr th:only-of-type {\n",
              "        vertical-align: middle;\n",
              "    }\n",
              "\n",
              "    .dataframe tbody tr th {\n",
              "        vertical-align: top;\n",
              "    }\n",
              "\n",
              "    .dataframe thead th {\n",
              "        text-align: right;\n",
              "    }\n",
              "</style>\n",
              "<table border=\"1\" class=\"dataframe\">\n",
              "  <thead>\n",
              "    <tr style=\"text-align: right;\">\n",
              "      <th></th>\n",
              "      <th>date</th>\n",
              "      <th>price</th>\n",
              "      <th>txCount</th>\n",
              "      <th>txVolume</th>\n",
              "      <th>activeAddresses</th>\n",
              "      <th>symbol</th>\n",
              "      <th>name</th>\n",
              "      <th>open</th>\n",
              "      <th>high</th>\n",
              "      <th>low</th>\n",
              "      <th>close</th>\n",
              "      <th>volume</th>\n",
              "      <th>market</th>\n",
              "    </tr>\n",
              "  </thead>\n",
              "  <tbody>\n",
              "    <tr>\n",
              "      <th>0</th>\n",
              "      <td>2013-04-28</td>\n",
              "      <td>135.30</td>\n",
              "      <td>41702.0</td>\n",
              "      <td>6.879868e+07</td>\n",
              "      <td>117984.0</td>\n",
              "      <td>BTC</td>\n",
              "      <td>Bitcoin</td>\n",
              "      <td>135.30</td>\n",
              "      <td>135.98</td>\n",
              "      <td>132.10</td>\n",
              "      <td>134.21</td>\n",
              "      <td>0.0</td>\n",
              "      <td>1.500520e+09</td>\n",
              "    </tr>\n",
              "    <tr>\n",
              "      <th>1</th>\n",
              "      <td>2013-04-28</td>\n",
              "      <td>4.30</td>\n",
              "      <td>9174.0</td>\n",
              "      <td>4.431952e+07</td>\n",
              "      <td>17216.0</td>\n",
              "      <td>LTC</td>\n",
              "      <td>Litecoin</td>\n",
              "      <td>4.30</td>\n",
              "      <td>4.40</td>\n",
              "      <td>4.18</td>\n",
              "      <td>4.35</td>\n",
              "      <td>0.0</td>\n",
              "      <td>7.377340e+07</td>\n",
              "    </tr>\n",
              "    <tr>\n",
              "      <th>2</th>\n",
              "      <td>2013-04-29</td>\n",
              "      <td>134.44</td>\n",
              "      <td>51602.0</td>\n",
              "      <td>1.138128e+08</td>\n",
              "      <td>86925.0</td>\n",
              "      <td>BTC</td>\n",
              "      <td>Bitcoin</td>\n",
              "      <td>134.44</td>\n",
              "      <td>147.49</td>\n",
              "      <td>134.00</td>\n",
              "      <td>144.54</td>\n",
              "      <td>0.0</td>\n",
              "      <td>1.491160e+09</td>\n",
              "    </tr>\n",
              "    <tr>\n",
              "      <th>3</th>\n",
              "      <td>2013-04-29</td>\n",
              "      <td>4.37</td>\n",
              "      <td>9275.0</td>\n",
              "      <td>3.647810e+07</td>\n",
              "      <td>18395.0</td>\n",
              "      <td>LTC</td>\n",
              "      <td>Litecoin</td>\n",
              "      <td>4.37</td>\n",
              "      <td>4.57</td>\n",
              "      <td>4.23</td>\n",
              "      <td>4.38</td>\n",
              "      <td>0.0</td>\n",
              "      <td>7.495270e+07</td>\n",
              "    </tr>\n",
              "    <tr>\n",
              "      <th>4</th>\n",
              "      <td>2013-04-30</td>\n",
              "      <td>144.00</td>\n",
              "      <td>47450.0</td>\n",
              "      <td>8.426632e+07</td>\n",
              "      <td>76871.0</td>\n",
              "      <td>BTC</td>\n",
              "      <td>Bitcoin</td>\n",
              "      <td>144.00</td>\n",
              "      <td>146.93</td>\n",
              "      <td>134.05</td>\n",
              "      <td>139.00</td>\n",
              "      <td>0.0</td>\n",
              "      <td>1.597780e+09</td>\n",
              "    </tr>\n",
              "  </tbody>\n",
              "</table>\n",
              "</div>"
            ],
            "text/plain": [
              "         date   price  txCount  ...   close  volume        market\n",
              "0  2013-04-28  135.30  41702.0  ...  134.21     0.0  1.500520e+09\n",
              "1  2013-04-28    4.30   9174.0  ...    4.35     0.0  7.377340e+07\n",
              "2  2013-04-29  134.44  51602.0  ...  144.54     0.0  1.491160e+09\n",
              "3  2013-04-29    4.37   9275.0  ...    4.38     0.0  7.495270e+07\n",
              "4  2013-04-30  144.00  47450.0  ...  139.00     0.0  1.597780e+09\n",
              "\n",
              "[5 rows x 13 columns]"
            ]
          },
          "metadata": {
            "tags": []
          },
          "execution_count": 31
        }
      ]
    },
    {
      "cell_type": "markdown",
      "metadata": {
        "id": "VlRMru836ZX_",
        "colab_type": "text"
      },
      "source": [
        "Выберем отдельную колонку"
      ]
    },
    {
      "cell_type": "code",
      "metadata": {
        "id": "COoQFYLt6Yv1",
        "colab_type": "code",
        "outputId": "bed2cf93-1419-40c3-b8fa-04aff1cbc06a",
        "colab": {
          "base_uri": "https://localhost:8080/",
          "height": 121
        }
      },
      "source": [
        "coins['price'].head()"
      ],
      "execution_count": 0,
      "outputs": [
        {
          "output_type": "execute_result",
          "data": {
            "text/plain": [
              "0    135.30\n",
              "1      4.30\n",
              "2    134.44\n",
              "3      4.37\n",
              "4    144.00\n",
              "Name: price, dtype: float64"
            ]
          },
          "metadata": {
            "tags": []
          },
          "execution_count": 14
        }
      ]
    },
    {
      "cell_type": "markdown",
      "metadata": {
        "id": "CwWkQBuX7hnb",
        "colab_type": "text"
      },
      "source": [
        "Библиотека pandas предоставляет две основные структуры: Series и DataFrame для быстрой и удобной работы с данными.  \n",
        "*Series* – это маркированная одномерная структура данных, ее можно представить, как таблицу с одной строкой. С *Series* можно работать как с обычным массивом (обращаться по номеру индекса), и как с ассоциированным массивом, когда можно использовать ключ для доступа к элементам данных.   \n",
        "*DataFrame* – это двумерная маркированная структура. Идейно она очень похожа на обычную таблицу, что выражается в способе ее создания и работе с ее элементами. "
      ]
    },
    {
      "cell_type": "markdown",
      "metadata": {
        "id": "3QGCag9K8IM7",
        "colab_type": "text"
      },
      "source": [
        "## Структура данных Series"
      ]
    },
    {
      "cell_type": "markdown",
      "metadata": {
        "id": "sKUHcjw58Kvk",
        "colab_type": "text"
      },
      "source": [
        "Создать структуру *Series* можно на базе различных типов данных:\n",
        "\n",
        "   * словари Python;\n",
        "   * списки Python;\n",
        "   * массивы из numpy: ndarray;\n",
        "   * скалярные величины.\n",
        "\n"
      ]
    },
    {
      "cell_type": "markdown",
      "metadata": {
        "id": "OcxG1uY78Wxw",
        "colab_type": "text"
      },
      "source": [
        ""
      ]
    },
    {
      "cell_type": "code",
      "metadata": {
        "id": "d27WlwU98byL",
        "colab_type": "code",
        "outputId": "aad58407-c876-493a-b59b-0858916ecfef",
        "colab": {
          "base_uri": "https://localhost:8080/",
          "height": 121
        }
      },
      "source": [
        "pd.Series([1, 2, 3, 4, 5])"
      ],
      "execution_count": 0,
      "outputs": [
        {
          "output_type": "execute_result",
          "data": {
            "text/plain": [
              "0    1\n",
              "1    2\n",
              "2    3\n",
              "3    4\n",
              "4    5\n",
              "dtype: int64"
            ]
          },
          "metadata": {
            "tags": []
          },
          "execution_count": 16
        }
      ]
    },
    {
      "cell_type": "markdown",
      "metadata": {
        "id": "rqgUhYst8vxQ",
        "colab_type": "text"
      },
      "source": [
        "В данном примере была создана структура Series на базе списка из языка Python. Для доступа к элементам Series, в данном случае, можно использовать только положительные целые числа – левый столбец чисел, начинающийся с нуля – это как раз и есть индексы элементов структуры, которые представлены в правом столбце."
      ]
    },
    {
      "cell_type": "markdown",
      "metadata": {
        "id": "SAf3Dtes8z_U",
        "colab_type": "text"
      },
      "source": [
        "Можно попробовать использоваться больше возможностей из тех, что предлагает pandas, для этого передадим в качестве второго элемента список строк (в нашем случае – это отдельные символы). Такой шаг позволит нам обращаться к элементам структуры Series не только по численному индексу, но и по метке, что сделает работу с таким объектом, похожей на работу со словарем."
      ]
    },
    {
      "cell_type": "code",
      "metadata": {
        "id": "djbP6k3Z8i3Q",
        "colab_type": "code",
        "outputId": "64dff493-62c4-4c4f-ef8d-18e2831046a3",
        "colab": {
          "base_uri": "https://localhost:8080/",
          "height": 121
        }
      },
      "source": [
        "s = pd.Series([1, 2, 3, 4, 5], ['a', 'b', 'c', 'd', 'e'])\n",
        "print(s)\n"
      ],
      "execution_count": 0,
      "outputs": [
        {
          "output_type": "stream",
          "text": [
            "a    1\n",
            "b    2\n",
            "c    3\n",
            "d    4\n",
            "e    5\n",
            "dtype: int64\n"
          ],
          "name": "stdout"
        }
      ]
    },
    {
      "cell_type": "markdown",
      "metadata": {
        "id": "tDjLm4uv9JMU",
        "colab_type": "text"
      },
      "source": [
        "Индексация"
      ]
    },
    {
      "cell_type": "code",
      "metadata": {
        "id": "EF1NFbUd9EVR",
        "colab_type": "code",
        "outputId": "4c9c21cd-b950-485c-997d-b3058624a377",
        "colab": {
          "base_uri": "https://localhost:8080/",
          "height": 34
        }
      },
      "source": [
        "s['d']"
      ],
      "execution_count": 0,
      "outputs": [
        {
          "output_type": "execute_result",
          "data": {
            "text/plain": [
              "4"
            ]
          },
          "metadata": {
            "tags": []
          },
          "execution_count": 19
        }
      ]
    },
    {
      "cell_type": "code",
      "metadata": {
        "id": "C6N1XJC29Par",
        "colab_type": "code",
        "outputId": "dc71d9e3-46bd-496b-ec0d-17f33625c20d",
        "colab": {
          "base_uri": "https://localhost:8080/",
          "height": 34
        }
      },
      "source": [
        "s[3]"
      ],
      "execution_count": 0,
      "outputs": [
        {
          "output_type": "execute_result",
          "data": {
            "text/plain": [
              "4"
            ]
          },
          "metadata": {
            "tags": []
          },
          "execution_count": 21
        }
      ]
    },
    {
      "cell_type": "markdown",
      "metadata": {
        "id": "oXGNlNLx9W_N",
        "colab_type": "text"
      },
      "source": [
        "В поле для индекса можно поместить условное выражение."
      ]
    },
    {
      "cell_type": "code",
      "metadata": {
        "id": "A_fYnmag9Xtc",
        "colab_type": "code",
        "outputId": "927036a3-79bb-4e23-9528-cfa1b059031e",
        "colab": {
          "base_uri": "https://localhost:8080/",
          "height": 86
        }
      },
      "source": [
        "s[s < 4]"
      ],
      "execution_count": 0,
      "outputs": [
        {
          "output_type": "execute_result",
          "data": {
            "text/plain": [
              "a    1\n",
              "b    2\n",
              "c    3\n",
              "dtype: int64"
            ]
          },
          "metadata": {
            "tags": []
          },
          "execution_count": 22
        }
      ]
    },
    {
      "cell_type": "markdown",
      "metadata": {
        "id": "gQkx4Jsp9g-k",
        "colab_type": "text"
      },
      "source": [
        "Со структурами Series можно работать как с векторами: складывать, умножать вектор на число "
      ]
    },
    {
      "cell_type": "code",
      "metadata": {
        "id": "TFUE2r-p9h4U",
        "colab_type": "code",
        "outputId": "578c26c9-17de-4f8a-fdbe-9e956dd88ff9",
        "colab": {
          "base_uri": "https://localhost:8080/",
          "height": 121
        }
      },
      "source": [
        "s * 5"
      ],
      "execution_count": 0,
      "outputs": [
        {
          "output_type": "execute_result",
          "data": {
            "text/plain": [
              "a     5\n",
              "b    10\n",
              "c    15\n",
              "d    20\n",
              "e    25\n",
              "dtype: int64"
            ]
          },
          "metadata": {
            "tags": []
          },
          "execution_count": 23
        }
      ]
    },
    {
      "cell_type": "code",
      "metadata": {
        "id": "ySsOFFPVUwMW",
        "colab_type": "code",
        "outputId": "f6161a82-cb59-47ab-e583-5592ee7db4d4",
        "colab": {
          "base_uri": "https://localhost:8080/",
          "height": 34
        }
      },
      "source": [
        "s.shape"
      ],
      "execution_count": 0,
      "outputs": [
        {
          "output_type": "execute_result",
          "data": {
            "text/plain": [
              "(5,)"
            ]
          },
          "metadata": {
            "tags": []
          },
          "execution_count": 49
        }
      ]
    },
    {
      "cell_type": "markdown",
      "metadata": {
        "id": "zEkNSiPaU1JR",
        "colab_type": "text"
      },
      "source": [
        "Получить данные в виде numpy массива."
      ]
    },
    {
      "cell_type": "code",
      "metadata": {
        "id": "SOzvhmmCU0o9",
        "colab_type": "code",
        "outputId": "5ad269f1-00d9-4592-cae3-75cc8adb9fe6",
        "colab": {
          "base_uri": "https://localhost:8080/",
          "height": 34
        }
      },
      "source": [
        "s.values"
      ],
      "execution_count": 0,
      "outputs": [
        {
          "output_type": "execute_result",
          "data": {
            "text/plain": [
              "array([1, 2, 3, 4, 5])"
            ]
          },
          "metadata": {
            "tags": []
          },
          "execution_count": 50
        }
      ]
    },
    {
      "cell_type": "markdown",
      "metadata": {
        "id": "pI5jyxFw9hkF",
        "colab_type": "text"
      },
      "source": [
        "## Структура данных DataFrame"
      ]
    },
    {
      "cell_type": "markdown",
      "metadata": {
        "id": "Rrr96SED9vAj",
        "colab_type": "text"
      },
      "source": [
        "Структуру DataFrame можно создать на базе:\n",
        "\n",
        "    * словаря (dict) в качестве элементов которого должны выступать: одномерные ndarray, списки, другие словари, структуры Series;\n",
        "    * двумерные ndarray;\n",
        "    * структуры Series;\n",
        "    * структурированные ndarray;\n",
        "    * другие DataFrame.\n"
      ]
    },
    {
      "cell_type": "code",
      "metadata": {
        "id": "JwFNSVnx97sz",
        "colab_type": "code",
        "colab": {}
      },
      "source": [
        "d = {\"price\": s, \"count\": pd.Series([10, 12, 7, 6, 9], index=s.index.values)}\n",
        "df = pd.DataFrame(d)"
      ],
      "execution_count": 0,
      "outputs": []
    },
    {
      "cell_type": "code",
      "metadata": {
        "id": "WS4sTXX__KLf",
        "colab_type": "code",
        "outputId": "5a49f3f8-c0b2-4b7f-8a55-9a5a187e6c50",
        "colab": {
          "base_uri": "https://localhost:8080/",
          "height": 206
        }
      },
      "source": [
        "df"
      ],
      "execution_count": 0,
      "outputs": [
        {
          "output_type": "execute_result",
          "data": {
            "text/html": [
              "<div>\n",
              "<style scoped>\n",
              "    .dataframe tbody tr th:only-of-type {\n",
              "        vertical-align: middle;\n",
              "    }\n",
              "\n",
              "    .dataframe tbody tr th {\n",
              "        vertical-align: top;\n",
              "    }\n",
              "\n",
              "    .dataframe thead th {\n",
              "        text-align: right;\n",
              "    }\n",
              "</style>\n",
              "<table border=\"1\" class=\"dataframe\">\n",
              "  <thead>\n",
              "    <tr style=\"text-align: right;\">\n",
              "      <th></th>\n",
              "      <th>price</th>\n",
              "      <th>count</th>\n",
              "    </tr>\n",
              "  </thead>\n",
              "  <tbody>\n",
              "    <tr>\n",
              "      <th>a</th>\n",
              "      <td>1</td>\n",
              "      <td>10</td>\n",
              "    </tr>\n",
              "    <tr>\n",
              "      <th>b</th>\n",
              "      <td>2</td>\n",
              "      <td>12</td>\n",
              "    </tr>\n",
              "    <tr>\n",
              "      <th>c</th>\n",
              "      <td>3</td>\n",
              "      <td>7</td>\n",
              "    </tr>\n",
              "    <tr>\n",
              "      <th>d</th>\n",
              "      <td>4</td>\n",
              "      <td>6</td>\n",
              "    </tr>\n",
              "    <tr>\n",
              "      <th>e</th>\n",
              "      <td>5</td>\n",
              "      <td>9</td>\n",
              "    </tr>\n",
              "  </tbody>\n",
              "</table>\n",
              "</div>"
            ],
            "text/plain": [
              "   price  count\n",
              "a      1     10\n",
              "b      2     12\n",
              "c      3      7\n",
              "d      4      6\n",
              "e      5      9"
            ]
          },
          "metadata": {
            "tags": []
          },
          "execution_count": 33
        }
      ]
    },
    {
      "cell_type": "code",
      "metadata": {
        "id": "IdQJvJtk_M41",
        "colab_type": "code",
        "outputId": "c24b92c5-9999-4937-ab43-850b5c0db6fd",
        "colab": {
          "base_uri": "https://localhost:8080/",
          "height": 34
        }
      },
      "source": [
        "df.index"
      ],
      "execution_count": 0,
      "outputs": [
        {
          "output_type": "execute_result",
          "data": {
            "text/plain": [
              "Index(['a', 'b', 'c', 'd', 'e'], dtype='object')"
            ]
          },
          "metadata": {
            "tags": []
          },
          "execution_count": 34
        }
      ]
    },
    {
      "cell_type": "code",
      "metadata": {
        "id": "J4y_omm3_SDo",
        "colab_type": "code",
        "outputId": "b57b56a6-0f55-494a-a592-f6c6673eb030",
        "colab": {
          "base_uri": "https://localhost:8080/",
          "height": 34
        }
      },
      "source": [
        "df.columns"
      ],
      "execution_count": 0,
      "outputs": [
        {
          "output_type": "execute_result",
          "data": {
            "text/plain": [
              "Index(['price', 'count'], dtype='object')"
            ]
          },
          "metadata": {
            "tags": []
          },
          "execution_count": 37
        }
      ]
    },
    {
      "cell_type": "code",
      "metadata": {
        "id": "E_4vC7_x_hkr",
        "colab_type": "code",
        "outputId": "64c6be57-6794-4905-9afe-95a0aeef255b",
        "colab": {
          "base_uri": "https://localhost:8080/",
          "height": 121
        }
      },
      "source": [
        "df['price']"
      ],
      "execution_count": 0,
      "outputs": [
        {
          "output_type": "execute_result",
          "data": {
            "text/plain": [
              "a    1\n",
              "b    2\n",
              "c    3\n",
              "d    4\n",
              "e    5\n",
              "Name: price, dtype: int64"
            ]
          },
          "metadata": {
            "tags": []
          },
          "execution_count": 40
        }
      ]
    },
    {
      "cell_type": "markdown",
      "metadata": {
        "id": "_tvcrMya_3ZT",
        "colab_type": "text"
      },
      "source": [
        "Выбор строки по метке"
      ]
    },
    {
      "cell_type": "code",
      "metadata": {
        "id": "FVdi_-L2_wJB",
        "colab_type": "code",
        "outputId": "5492281d-9512-4cf5-c167-c69b73fe9a6b",
        "colab": {
          "base_uri": "https://localhost:8080/",
          "height": 69
        }
      },
      "source": [
        "df.loc['a']"
      ],
      "execution_count": 0,
      "outputs": [
        {
          "output_type": "execute_result",
          "data": {
            "text/plain": [
              "price     1\n",
              "count    10\n",
              "Name: a, dtype: int64"
            ]
          },
          "metadata": {
            "tags": []
          },
          "execution_count": 41
        }
      ]
    },
    {
      "cell_type": "markdown",
      "metadata": {
        "id": "dDEUCert_5Uo",
        "colab_type": "text"
      },
      "source": [
        "Выбор строки по индексу"
      ]
    },
    {
      "cell_type": "code",
      "metadata": {
        "id": "WQttX7tK_zx0",
        "colab_type": "code",
        "outputId": "c9848ff8-cf39-485b-cfdf-e25419dd2d48",
        "colab": {
          "base_uri": "https://localhost:8080/",
          "height": 143
        }
      },
      "source": [
        "df.iloc[[0, 2, 4]]"
      ],
      "execution_count": 0,
      "outputs": [
        {
          "output_type": "execute_result",
          "data": {
            "text/html": [
              "<div>\n",
              "<style scoped>\n",
              "    .dataframe tbody tr th:only-of-type {\n",
              "        vertical-align: middle;\n",
              "    }\n",
              "\n",
              "    .dataframe tbody tr th {\n",
              "        vertical-align: top;\n",
              "    }\n",
              "\n",
              "    .dataframe thead th {\n",
              "        text-align: right;\n",
              "    }\n",
              "</style>\n",
              "<table border=\"1\" class=\"dataframe\">\n",
              "  <thead>\n",
              "    <tr style=\"text-align: right;\">\n",
              "      <th></th>\n",
              "      <th>price</th>\n",
              "      <th>count</th>\n",
              "    </tr>\n",
              "  </thead>\n",
              "  <tbody>\n",
              "    <tr>\n",
              "      <th>a</th>\n",
              "      <td>1</td>\n",
              "      <td>10</td>\n",
              "    </tr>\n",
              "    <tr>\n",
              "      <th>c</th>\n",
              "      <td>3</td>\n",
              "      <td>7</td>\n",
              "    </tr>\n",
              "    <tr>\n",
              "      <th>e</th>\n",
              "      <td>5</td>\n",
              "      <td>9</td>\n",
              "    </tr>\n",
              "  </tbody>\n",
              "</table>\n",
              "</div>"
            ],
            "text/plain": [
              "   price  count\n",
              "a      1     10\n",
              "c      3      7\n",
              "e      5      9"
            ]
          },
          "metadata": {
            "tags": []
          },
          "execution_count": 48
        }
      ]
    },
    {
      "cell_type": "code",
      "metadata": {
        "id": "pbtJ5qWQAAF8",
        "colab_type": "code",
        "outputId": "9a74bf6f-5220-4e92-fb6c-bfbb838f8aa3",
        "colab": {
          "base_uri": "https://localhost:8080/",
          "height": 143
        }
      },
      "source": [
        "df[df['count'] > 7]"
      ],
      "execution_count": 0,
      "outputs": [
        {
          "output_type": "execute_result",
          "data": {
            "text/html": [
              "<div>\n",
              "<style scoped>\n",
              "    .dataframe tbody tr th:only-of-type {\n",
              "        vertical-align: middle;\n",
              "    }\n",
              "\n",
              "    .dataframe tbody tr th {\n",
              "        vertical-align: top;\n",
              "    }\n",
              "\n",
              "    .dataframe thead th {\n",
              "        text-align: right;\n",
              "    }\n",
              "</style>\n",
              "<table border=\"1\" class=\"dataframe\">\n",
              "  <thead>\n",
              "    <tr style=\"text-align: right;\">\n",
              "      <th></th>\n",
              "      <th>price</th>\n",
              "      <th>count</th>\n",
              "    </tr>\n",
              "  </thead>\n",
              "  <tbody>\n",
              "    <tr>\n",
              "      <th>a</th>\n",
              "      <td>1</td>\n",
              "      <td>10</td>\n",
              "    </tr>\n",
              "    <tr>\n",
              "      <th>b</th>\n",
              "      <td>2</td>\n",
              "      <td>12</td>\n",
              "    </tr>\n",
              "    <tr>\n",
              "      <th>e</th>\n",
              "      <td>5</td>\n",
              "      <td>9</td>\n",
              "    </tr>\n",
              "  </tbody>\n",
              "</table>\n",
              "</div>"
            ],
            "text/plain": [
              "   price  count\n",
              "a      1     10\n",
              "b      2     12\n",
              "e      5      9"
            ]
          },
          "metadata": {
            "tags": []
          },
          "execution_count": 46
        }
      ]
    },
    {
      "cell_type": "markdown",
      "metadata": {
        "id": "tcRmD6bVVFgU",
        "colab_type": "text"
      },
      "source": [
        "Транспонируем таблицу"
      ]
    },
    {
      "cell_type": "code",
      "metadata": {
        "id": "GeTf0MYRVIFG",
        "colab_type": "code",
        "outputId": "b19b1f04-4625-410b-c40c-61fd82d1bfd1",
        "colab": {
          "base_uri": "https://localhost:8080/",
          "height": 112
        }
      },
      "source": [
        "df.T"
      ],
      "execution_count": 0,
      "outputs": [
        {
          "output_type": "execute_result",
          "data": {
            "text/html": [
              "<div>\n",
              "<style scoped>\n",
              "    .dataframe tbody tr th:only-of-type {\n",
              "        vertical-align: middle;\n",
              "    }\n",
              "\n",
              "    .dataframe tbody tr th {\n",
              "        vertical-align: top;\n",
              "    }\n",
              "\n",
              "    .dataframe thead th {\n",
              "        text-align: right;\n",
              "    }\n",
              "</style>\n",
              "<table border=\"1\" class=\"dataframe\">\n",
              "  <thead>\n",
              "    <tr style=\"text-align: right;\">\n",
              "      <th></th>\n",
              "      <th>a</th>\n",
              "      <th>b</th>\n",
              "      <th>c</th>\n",
              "      <th>d</th>\n",
              "      <th>e</th>\n",
              "    </tr>\n",
              "  </thead>\n",
              "  <tbody>\n",
              "    <tr>\n",
              "      <th>price</th>\n",
              "      <td>1</td>\n",
              "      <td>2</td>\n",
              "      <td>3</td>\n",
              "      <td>4</td>\n",
              "      <td>5</td>\n",
              "    </tr>\n",
              "    <tr>\n",
              "      <th>count</th>\n",
              "      <td>10</td>\n",
              "      <td>12</td>\n",
              "      <td>7</td>\n",
              "      <td>6</td>\n",
              "      <td>9</td>\n",
              "    </tr>\n",
              "  </tbody>\n",
              "</table>\n",
              "</div>"
            ],
            "text/plain": [
              "        a   b  c  d  e\n",
              "price   1   2  3  4  5\n",
              "count  10  12  7  6  9"
            ]
          },
          "metadata": {
            "tags": []
          },
          "execution_count": 51
        }
      ]
    },
    {
      "cell_type": "markdown",
      "metadata": {
        "id": "_8h5VsVuVNDr",
        "colab_type": "text"
      },
      "source": [
        "Типы данных в колонках"
      ]
    },
    {
      "cell_type": "code",
      "metadata": {
        "id": "u4GhbUZbVPgi",
        "colab_type": "code",
        "outputId": "2365d9b6-b8d1-4dbb-b89e-4a92234e4e8e",
        "colab": {
          "base_uri": "https://localhost:8080/",
          "height": 69
        }
      },
      "source": [
        "df.dtypes"
      ],
      "execution_count": 0,
      "outputs": [
        {
          "output_type": "execute_result",
          "data": {
            "text/plain": [
              "price    int64\n",
              "count    int64\n",
              "dtype: object"
            ]
          },
          "metadata": {
            "tags": []
          },
          "execution_count": 52
        }
      ]
    },
    {
      "cell_type": "markdown",
      "metadata": {
        "id": "SGKVsSW_VakR",
        "colab_type": "text"
      },
      "source": [
        "Размеры"
      ]
    },
    {
      "cell_type": "code",
      "metadata": {
        "id": "k3J3RDu-VVzw",
        "colab_type": "code",
        "outputId": "d590fc63-37b2-4bd1-be03-db6913f522f0",
        "colab": {
          "base_uri": "https://localhost:8080/",
          "height": 34
        }
      },
      "source": [
        "df.shape"
      ],
      "execution_count": 0,
      "outputs": [
        {
          "output_type": "execute_result",
          "data": {
            "text/plain": [
              "(5, 2)"
            ]
          },
          "metadata": {
            "tags": []
          },
          "execution_count": 53
        }
      ]
    },
    {
      "cell_type": "markdown",
      "metadata": {
        "id": "GNK3FWgKVYGg",
        "colab_type": "text"
      },
      "source": [
        "Количество элементов"
      ]
    },
    {
      "cell_type": "code",
      "metadata": {
        "id": "NqmgiMMBVWVB",
        "colab_type": "code",
        "outputId": "3c7322a2-15bc-4fb8-c330-e1979ac4b1e4",
        "colab": {
          "base_uri": "https://localhost:8080/",
          "height": 34
        }
      },
      "source": [
        "df.size"
      ],
      "execution_count": 0,
      "outputs": [
        {
          "output_type": "execute_result",
          "data": {
            "text/plain": [
              "10"
            ]
          },
          "metadata": {
            "tags": []
          },
          "execution_count": 55
        }
      ]
    },
    {
      "cell_type": "markdown",
      "metadata": {
        "id": "zzmG4lPHWCGc",
        "colab_type": "text"
      },
      "source": [
        "DatetimeIndex - это специальный тип данных для индексов содержащих время"
      ]
    },
    {
      "cell_type": "code",
      "metadata": {
        "id": "iirtUw6JV84-",
        "colab_type": "code",
        "colab": {}
      },
      "source": [
        "table = pd.DataFrame(\n",
        "    data=[['RUB', 10],['EUR', 74],['USD', 65], ['JPY', 107]],\n",
        "    columns=['symbol', 'price'],\n",
        "    \n",
        "    index=pd.DatetimeIndex(['2018-11-01 00:00:00', '2018-12-04 10:00:00', '2018-07-18 12:00:00', '2018-03-20 05:50:00'])\n",
        ")"
      ],
      "execution_count": 0,
      "outputs": []
    },
    {
      "cell_type": "markdown",
      "metadata": {
        "id": "AL9nLNoq_ymV",
        "colab_type": "text"
      },
      "source": [
        "Timestamp в пандас эквивалентен python’s Datetime"
      ]
    },
    {
      "cell_type": "code",
      "metadata": {
        "id": "zlGFde4p-DFc",
        "colab_type": "code",
        "outputId": "7e1e9d69-2b42-4563-e4e3-f781b1a16483",
        "colab": {
          "base_uri": "https://localhost:8080/",
          "height": 69
        }
      },
      "source": [
        "table.loc[pd.Timestamp(2018, 11, 1)]"
      ],
      "execution_count": 0,
      "outputs": [
        {
          "output_type": "execute_result",
          "data": {
            "text/plain": [
              "symbol    RUB\n",
              "price      10\n",
              "Name: 2018-11-01 00:00:00, dtype: object"
            ]
          },
          "metadata": {
            "tags": []
          },
          "execution_count": 57
        }
      ]
    },
    {
      "cell_type": "markdown",
      "metadata": {
        "id": "p6SxsjJUAdyW",
        "colab_type": "text"
      },
      "source": [
        "Удаление строк по их индексам. Можно использовать для удаления колонок, указав axis=1"
      ]
    },
    {
      "cell_type": "code",
      "metadata": {
        "id": "kuYQhZfUAHTC",
        "colab_type": "code",
        "outputId": "4ef7827c-2201-44fd-9ea6-dadb9b935ff4",
        "colab": {
          "base_uri": "https://localhost:8080/",
          "height": 112
        }
      },
      "source": [
        "table.drop([pd.Timestamp('2018-07-18 12:00:00'), pd.Timestamp('2018-11-01 00:00:00')])"
      ],
      "execution_count": 0,
      "outputs": [
        {
          "output_type": "execute_result",
          "data": {
            "text/html": [
              "<div>\n",
              "<style scoped>\n",
              "    .dataframe tbody tr th:only-of-type {\n",
              "        vertical-align: middle;\n",
              "    }\n",
              "\n",
              "    .dataframe tbody tr th {\n",
              "        vertical-align: top;\n",
              "    }\n",
              "\n",
              "    .dataframe thead th {\n",
              "        text-align: right;\n",
              "    }\n",
              "</style>\n",
              "<table border=\"1\" class=\"dataframe\">\n",
              "  <thead>\n",
              "    <tr style=\"text-align: right;\">\n",
              "      <th></th>\n",
              "      <th>symbol</th>\n",
              "      <th>price</th>\n",
              "    </tr>\n",
              "  </thead>\n",
              "  <tbody>\n",
              "    <tr>\n",
              "      <th>2018-12-04 10:00:00</th>\n",
              "      <td>EUR</td>\n",
              "      <td>74</td>\n",
              "    </tr>\n",
              "    <tr>\n",
              "      <th>2018-03-20 05:50:00</th>\n",
              "      <td>JPY</td>\n",
              "      <td>107</td>\n",
              "    </tr>\n",
              "  </tbody>\n",
              "</table>\n",
              "</div>"
            ],
            "text/plain": [
              "                    symbol  price\n",
              "2018-12-04 10:00:00    EUR     74\n",
              "2018-03-20 05:50:00    JPY    107"
            ]
          },
          "metadata": {
            "tags": []
          },
          "execution_count": 58
        }
      ]
    },
    {
      "cell_type": "code",
      "metadata": {
        "id": "DNRhy5vXAiiH",
        "colab_type": "code",
        "colab": {}
      },
      "source": [
        "table['high'] = [12, 77, 65, 108]"
      ],
      "execution_count": 0,
      "outputs": []
    },
    {
      "cell_type": "markdown",
      "metadata": {
        "id": "tTkwAGwvAxau",
        "colab_type": "text"
      },
      "source": [
        "Добавление новой колонки"
      ]
    },
    {
      "cell_type": "code",
      "metadata": {
        "id": "kzarUeHNAtSK",
        "colab_type": "code",
        "outputId": "04bb0968-daec-4191-8ea7-3594d7df65e3",
        "colab": {
          "base_uri": "https://localhost:8080/",
          "height": 175
        }
      },
      "source": [
        "table"
      ],
      "execution_count": 0,
      "outputs": [
        {
          "output_type": "execute_result",
          "data": {
            "text/html": [
              "<div>\n",
              "<style scoped>\n",
              "    .dataframe tbody tr th:only-of-type {\n",
              "        vertical-align: middle;\n",
              "    }\n",
              "\n",
              "    .dataframe tbody tr th {\n",
              "        vertical-align: top;\n",
              "    }\n",
              "\n",
              "    .dataframe thead th {\n",
              "        text-align: right;\n",
              "    }\n",
              "</style>\n",
              "<table border=\"1\" class=\"dataframe\">\n",
              "  <thead>\n",
              "    <tr style=\"text-align: right;\">\n",
              "      <th></th>\n",
              "      <th>symbol</th>\n",
              "      <th>price</th>\n",
              "      <th>high</th>\n",
              "    </tr>\n",
              "  </thead>\n",
              "  <tbody>\n",
              "    <tr>\n",
              "      <th>2018-11-01 00:00:00</th>\n",
              "      <td>RUB</td>\n",
              "      <td>10</td>\n",
              "      <td>12</td>\n",
              "    </tr>\n",
              "    <tr>\n",
              "      <th>2018-12-04 10:00:00</th>\n",
              "      <td>EUR</td>\n",
              "      <td>74</td>\n",
              "      <td>77</td>\n",
              "    </tr>\n",
              "    <tr>\n",
              "      <th>2018-07-18 12:00:00</th>\n",
              "      <td>USD</td>\n",
              "      <td>65</td>\n",
              "      <td>65</td>\n",
              "    </tr>\n",
              "    <tr>\n",
              "      <th>2018-03-20 05:50:00</th>\n",
              "      <td>JPY</td>\n",
              "      <td>107</td>\n",
              "      <td>108</td>\n",
              "    </tr>\n",
              "  </tbody>\n",
              "</table>\n",
              "</div>"
            ],
            "text/plain": [
              "                    symbol  price  high\n",
              "2018-11-01 00:00:00    RUB     10    12\n",
              "2018-12-04 10:00:00    EUR     74    77\n",
              "2018-07-18 12:00:00    USD     65    65\n",
              "2018-03-20 05:50:00    JPY    107   108"
            ]
          },
          "metadata": {
            "tags": []
          },
          "execution_count": 60
        }
      ]
    },
    {
      "cell_type": "markdown",
      "metadata": {
        "id": "xDdYavuSIL4n",
        "colab_type": "text"
      },
      "source": [
        "Поэлементные операции"
      ]
    },
    {
      "cell_type": "code",
      "metadata": {
        "id": "1PLNlKfoIOUZ",
        "colab_type": "code",
        "outputId": "cfb0fcb9-142e-45cd-9ae7-5212730dbac7",
        "colab": {
          "base_uri": "https://localhost:8080/",
          "height": 104
        }
      },
      "source": [
        "table['high'] - table['price']"
      ],
      "execution_count": 0,
      "outputs": [
        {
          "output_type": "execute_result",
          "data": {
            "text/plain": [
              "2018-11-01 00:00:00    2\n",
              "2018-12-04 10:00:00    3\n",
              "2018-07-18 12:00:00    0\n",
              "2018-03-20 05:50:00    1\n",
              "dtype: int64"
            ]
          },
          "metadata": {
            "tags": []
          },
          "execution_count": 61
        }
      ]
    },
    {
      "cell_type": "code",
      "metadata": {
        "id": "Mh3l6TxvI22I",
        "colab_type": "code",
        "outputId": "46a94f16-b69f-4f4a-e359-c8f1b74cd95d",
        "colab": {
          "base_uri": "https://localhost:8080/",
          "height": 104
        }
      },
      "source": [
        "table['symbol'].value_counts()"
      ],
      "execution_count": 0,
      "outputs": [
        {
          "output_type": "execute_result",
          "data": {
            "text/plain": [
              "USD    1\n",
              "JPY    1\n",
              "EUR    1\n",
              "RUB    1\n",
              "Name: symbol, dtype: int64"
            ]
          },
          "metadata": {
            "tags": []
          },
          "execution_count": 66
        }
      ]
    },
    {
      "cell_type": "markdown",
      "metadata": {
        "id": "ya2--gJsA7RP",
        "colab_type": "text"
      },
      "source": [
        "Удаление колонок"
      ]
    },
    {
      "cell_type": "code",
      "metadata": {
        "id": "hKSreY77A3Ru",
        "colab_type": "code",
        "colab": {}
      },
      "source": [
        "del table['high']"
      ],
      "execution_count": 0,
      "outputs": []
    },
    {
      "cell_type": "markdown",
      "metadata": {
        "id": "9U6jjeSABMAS",
        "colab_type": "text"
      },
      "source": [
        "Строки и столбцы таблицы можно сортировать. Результат сортирующих методов возвращает новую таблицу. ascending=True - по возрастанию, inplace - выполнить сортировку в текущей таблице."
      ]
    },
    {
      "cell_type": "code",
      "metadata": {
        "id": "ql2NP6ibBI0X",
        "colab_type": "code",
        "colab": {}
      },
      "source": [
        "table.sort_index(ascending=False, inplace=True)"
      ],
      "execution_count": 0,
      "outputs": []
    },
    {
      "cell_type": "code",
      "metadata": {
        "id": "qq46lrM6BdIu",
        "colab_type": "code",
        "outputId": "93999031-81bd-4430-e3ca-a27de28fb72f",
        "colab": {
          "base_uri": "https://localhost:8080/",
          "height": 175
        }
      },
      "source": [
        "table"
      ],
      "execution_count": 0,
      "outputs": [
        {
          "output_type": "execute_result",
          "data": {
            "text/html": [
              "<div>\n",
              "<style scoped>\n",
              "    .dataframe tbody tr th:only-of-type {\n",
              "        vertical-align: middle;\n",
              "    }\n",
              "\n",
              "    .dataframe tbody tr th {\n",
              "        vertical-align: top;\n",
              "    }\n",
              "\n",
              "    .dataframe thead th {\n",
              "        text-align: right;\n",
              "    }\n",
              "</style>\n",
              "<table border=\"1\" class=\"dataframe\">\n",
              "  <thead>\n",
              "    <tr style=\"text-align: right;\">\n",
              "      <th></th>\n",
              "      <th>symbol</th>\n",
              "      <th>price</th>\n",
              "    </tr>\n",
              "  </thead>\n",
              "  <tbody>\n",
              "    <tr>\n",
              "      <th>2018-12-04 10:00:00</th>\n",
              "      <td>EUR</td>\n",
              "      <td>74</td>\n",
              "    </tr>\n",
              "    <tr>\n",
              "      <th>2018-11-01 00:00:00</th>\n",
              "      <td>RUB</td>\n",
              "      <td>10</td>\n",
              "    </tr>\n",
              "    <tr>\n",
              "      <th>2018-07-18 12:00:00</th>\n",
              "      <td>USD</td>\n",
              "      <td>65</td>\n",
              "    </tr>\n",
              "    <tr>\n",
              "      <th>2018-03-20 05:50:00</th>\n",
              "      <td>JPY</td>\n",
              "      <td>107</td>\n",
              "    </tr>\n",
              "  </tbody>\n",
              "</table>\n",
              "</div>"
            ],
            "text/plain": [
              "                    symbol  price\n",
              "2018-12-04 10:00:00    EUR     74\n",
              "2018-11-01 00:00:00    RUB     10\n",
              "2018-07-18 12:00:00    USD     65\n",
              "2018-03-20 05:50:00    JPY    107"
            ]
          },
          "metadata": {
            "tags": []
          },
          "execution_count": 29
        }
      ]
    },
    {
      "cell_type": "markdown",
      "metadata": {
        "id": "ejlWRmG_B5TE",
        "colab_type": "text"
      },
      "source": [
        "Отсортировать таблицу алгоритмом quicksort по названию, а если значения равны то по цене. kind : {‘quicksort’, ‘mergesort’, ‘heapsort’}, default ‘quicksort’"
      ]
    },
    {
      "cell_type": "code",
      "metadata": {
        "id": "G4EPXcf8B5B3",
        "colab_type": "code",
        "outputId": "9a462af5-90ee-4e6e-8e7b-e01f6fc37e5e",
        "colab": {
          "base_uri": "https://localhost:8080/",
          "height": 175
        }
      },
      "source": [
        "table.sort_values(by=['symbol', 'price'], kind='quicksort')"
      ],
      "execution_count": 0,
      "outputs": [
        {
          "output_type": "execute_result",
          "data": {
            "text/html": [
              "<div>\n",
              "<style scoped>\n",
              "    .dataframe tbody tr th:only-of-type {\n",
              "        vertical-align: middle;\n",
              "    }\n",
              "\n",
              "    .dataframe tbody tr th {\n",
              "        vertical-align: top;\n",
              "    }\n",
              "\n",
              "    .dataframe thead th {\n",
              "        text-align: right;\n",
              "    }\n",
              "</style>\n",
              "<table border=\"1\" class=\"dataframe\">\n",
              "  <thead>\n",
              "    <tr style=\"text-align: right;\">\n",
              "      <th></th>\n",
              "      <th>symbol</th>\n",
              "      <th>price</th>\n",
              "    </tr>\n",
              "  </thead>\n",
              "  <tbody>\n",
              "    <tr>\n",
              "      <th>2018-12-04 10:00:00</th>\n",
              "      <td>EUR</td>\n",
              "      <td>74</td>\n",
              "    </tr>\n",
              "    <tr>\n",
              "      <th>2018-03-20 05:50:00</th>\n",
              "      <td>JPY</td>\n",
              "      <td>107</td>\n",
              "    </tr>\n",
              "    <tr>\n",
              "      <th>2018-11-01 00:00:00</th>\n",
              "      <td>RUB</td>\n",
              "      <td>10</td>\n",
              "    </tr>\n",
              "    <tr>\n",
              "      <th>2018-07-18 12:00:00</th>\n",
              "      <td>USD</td>\n",
              "      <td>65</td>\n",
              "    </tr>\n",
              "  </tbody>\n",
              "</table>\n",
              "</div>"
            ],
            "text/plain": [
              "                    symbol  price\n",
              "2018-12-04 10:00:00    EUR     74\n",
              "2018-03-20 05:50:00    JPY    107\n",
              "2018-11-01 00:00:00    RUB     10\n",
              "2018-07-18 12:00:00    USD     65"
            ]
          },
          "metadata": {
            "tags": []
          },
          "execution_count": 30
        }
      ]
    },
    {
      "cell_type": "code",
      "metadata": {
        "id": "ZWTq79E_CooP",
        "colab_type": "code",
        "colab": {}
      },
      "source": [
        "del table"
      ],
      "execution_count": 0,
      "outputs": []
    },
    {
      "cell_type": "markdown",
      "metadata": {
        "id": "Zu2vT9NGCTUU",
        "colab_type": "text"
      },
      "source": [
        "## Описательные статистики"
      ]
    },
    {
      "cell_type": "markdown",
      "metadata": {
        "id": "XaL64537CX4b",
        "colab_type": "text"
      },
      "source": [
        " Если в данных есть пропуски, то они не учитываются при вычислении статистик."
      ]
    },
    {
      "cell_type": "code",
      "metadata": {
        "id": "JlQbpqILCXKl",
        "colab_type": "code",
        "colab": {}
      },
      "source": [
        "a1 = np.random.randint(low=1, high=100, size=4)\n",
        "table = pd.DataFrame(\n",
        "    data=[a1,\n",
        "          [140, None, 10, 35],\n",
        "          [48, 56, None, 64.]],\n",
        "    columns=['RUB', 'EUR', 'USD', 'JPY'],\n",
        "    index=['21-07-2019', '22-07-2019', '23-07-2019']\n",
        ")"
      ],
      "execution_count": 0,
      "outputs": []
    },
    {
      "cell_type": "code",
      "metadata": {
        "id": "V6kTsMVxC5ky",
        "colab_type": "code",
        "outputId": "7a172b80-5af3-42ba-d3ee-4ba01420e3d5",
        "colab": {
          "base_uri": "https://localhost:8080/",
          "height": 143
        }
      },
      "source": [
        "table"
      ],
      "execution_count": 0,
      "outputs": [
        {
          "output_type": "execute_result",
          "data": {
            "text/html": [
              "<div>\n",
              "<style scoped>\n",
              "    .dataframe tbody tr th:only-of-type {\n",
              "        vertical-align: middle;\n",
              "    }\n",
              "\n",
              "    .dataframe tbody tr th {\n",
              "        vertical-align: top;\n",
              "    }\n",
              "\n",
              "    .dataframe thead th {\n",
              "        text-align: right;\n",
              "    }\n",
              "</style>\n",
              "<table border=\"1\" class=\"dataframe\">\n",
              "  <thead>\n",
              "    <tr style=\"text-align: right;\">\n",
              "      <th></th>\n",
              "      <th>RUB</th>\n",
              "      <th>EUR</th>\n",
              "      <th>USD</th>\n",
              "      <th>JPY</th>\n",
              "    </tr>\n",
              "  </thead>\n",
              "  <tbody>\n",
              "    <tr>\n",
              "      <th>21-07-2019</th>\n",
              "      <td>56</td>\n",
              "      <td>8.0</td>\n",
              "      <td>69.0</td>\n",
              "      <td>53.0</td>\n",
              "    </tr>\n",
              "    <tr>\n",
              "      <th>22-07-2019</th>\n",
              "      <td>140</td>\n",
              "      <td>NaN</td>\n",
              "      <td>10.0</td>\n",
              "      <td>35.0</td>\n",
              "    </tr>\n",
              "    <tr>\n",
              "      <th>23-07-2019</th>\n",
              "      <td>48</td>\n",
              "      <td>56.0</td>\n",
              "      <td>NaN</td>\n",
              "      <td>64.0</td>\n",
              "    </tr>\n",
              "  </tbody>\n",
              "</table>\n",
              "</div>"
            ],
            "text/plain": [
              "            RUB   EUR   USD   JPY\n",
              "21-07-2019   56   8.0  69.0  53.0\n",
              "22-07-2019  140   NaN  10.0  35.0\n",
              "23-07-2019   48  56.0   NaN  64.0"
            ]
          },
          "metadata": {
            "tags": []
          },
          "execution_count": 44
        }
      ]
    },
    {
      "cell_type": "markdown",
      "metadata": {
        "id": "5xSZMsL8DlDu",
        "colab_type": "text"
      },
      "source": [
        "Количество записей для каждой валюты."
      ]
    },
    {
      "cell_type": "code",
      "metadata": {
        "id": "a8abMK_2Djdn",
        "colab_type": "code",
        "outputId": "06ef5ada-5024-4c04-d0a9-721a05a74077",
        "colab": {
          "base_uri": "https://localhost:8080/",
          "height": 104
        }
      },
      "source": [
        "table.count()"
      ],
      "execution_count": 0,
      "outputs": [
        {
          "output_type": "execute_result",
          "data": {
            "text/plain": [
              "RUB    3\n",
              "EUR    2\n",
              "USD    2\n",
              "JPY    3\n",
              "dtype: int64"
            ]
          },
          "metadata": {
            "tags": []
          },
          "execution_count": 45
        }
      ]
    },
    {
      "cell_type": "markdown",
      "metadata": {
        "id": "79BQaWImD-7f",
        "colab_type": "text"
      },
      "source": [
        "Средний курс "
      ]
    },
    {
      "cell_type": "code",
      "metadata": {
        "id": "S_J_nEijDw8c",
        "colab_type": "code",
        "outputId": "596cb2e7-750e-4444-92e1-2a3710046cb7",
        "colab": {
          "base_uri": "https://localhost:8080/",
          "height": 104
        }
      },
      "source": [
        "table.mean()"
      ],
      "execution_count": 0,
      "outputs": [
        {
          "output_type": "execute_result",
          "data": {
            "text/plain": [
              "RUB    81.333333\n",
              "EUR    32.000000\n",
              "USD    39.500000\n",
              "JPY    50.666667\n",
              "dtype: float64"
            ]
          },
          "metadata": {
            "tags": []
          },
          "execution_count": 46
        }
      ]
    },
    {
      "cell_type": "markdown",
      "metadata": {
        "id": "UASPPWNGEDVY",
        "colab_type": "text"
      },
      "source": [
        ""
      ]
    },
    {
      "cell_type": "code",
      "metadata": {
        "id": "idLPAVRvEJeN",
        "colab_type": "code",
        "outputId": "096c1c8a-422e-4abb-e8be-8fb87231c7ff",
        "colab": {
          "base_uri": "https://localhost:8080/",
          "height": 104
        }
      },
      "source": [
        "table.min()"
      ],
      "execution_count": 0,
      "outputs": [
        {
          "output_type": "execute_result",
          "data": {
            "text/plain": [
              "RUB    48.0\n",
              "EUR     8.0\n",
              "USD    10.0\n",
              "JPY    35.0\n",
              "dtype: float64"
            ]
          },
          "metadata": {
            "tags": []
          },
          "execution_count": 47
        }
      ]
    },
    {
      "cell_type": "markdown",
      "metadata": {
        "id": "ad6u0FvtEiYo",
        "colab_type": "text"
      },
      "source": [
        "Процентное изменеие стоимости по сравнению с предыдущим значением"
      ]
    },
    {
      "cell_type": "code",
      "metadata": {
        "id": "yTzaTWpMEYgc",
        "colab_type": "code",
        "outputId": "45b0028d-0272-40c1-f5fb-d3908be638bc",
        "colab": {
          "base_uri": "https://localhost:8080/",
          "height": 143
        }
      },
      "source": [
        "table.pct_change()"
      ],
      "execution_count": 0,
      "outputs": [
        {
          "output_type": "execute_result",
          "data": {
            "text/html": [
              "<div>\n",
              "<style scoped>\n",
              "    .dataframe tbody tr th:only-of-type {\n",
              "        vertical-align: middle;\n",
              "    }\n",
              "\n",
              "    .dataframe tbody tr th {\n",
              "        vertical-align: top;\n",
              "    }\n",
              "\n",
              "    .dataframe thead th {\n",
              "        text-align: right;\n",
              "    }\n",
              "</style>\n",
              "<table border=\"1\" class=\"dataframe\">\n",
              "  <thead>\n",
              "    <tr style=\"text-align: right;\">\n",
              "      <th></th>\n",
              "      <th>RUB</th>\n",
              "      <th>EUR</th>\n",
              "      <th>USD</th>\n",
              "      <th>JPY</th>\n",
              "    </tr>\n",
              "  </thead>\n",
              "  <tbody>\n",
              "    <tr>\n",
              "      <th>21-07-2019</th>\n",
              "      <td>NaN</td>\n",
              "      <td>NaN</td>\n",
              "      <td>NaN</td>\n",
              "      <td>NaN</td>\n",
              "    </tr>\n",
              "    <tr>\n",
              "      <th>22-07-2019</th>\n",
              "      <td>1.500000</td>\n",
              "      <td>0.0</td>\n",
              "      <td>-0.855072</td>\n",
              "      <td>-0.339623</td>\n",
              "    </tr>\n",
              "    <tr>\n",
              "      <th>23-07-2019</th>\n",
              "      <td>-0.657143</td>\n",
              "      <td>6.0</td>\n",
              "      <td>0.000000</td>\n",
              "      <td>0.828571</td>\n",
              "    </tr>\n",
              "  </tbody>\n",
              "</table>\n",
              "</div>"
            ],
            "text/plain": [
              "                 RUB  EUR       USD       JPY\n",
              "21-07-2019       NaN  NaN       NaN       NaN\n",
              "22-07-2019  1.500000  0.0 -0.855072 -0.339623\n",
              "23-07-2019 -0.657143  6.0  0.000000  0.828571"
            ]
          },
          "metadata": {
            "tags": []
          },
          "execution_count": 48
        }
      ]
    },
    {
      "cell_type": "markdown",
      "metadata": {
        "id": "F-7jq5daEtQk",
        "colab_type": "text"
      },
      "source": [
        "Корреляция между курсом RUB и JPY"
      ]
    },
    {
      "cell_type": "code",
      "metadata": {
        "id": "FmS1OQcIEsxi",
        "colab_type": "code",
        "outputId": "5d6c9414-1797-4284-c43b-4944101d7728",
        "colab": {
          "base_uri": "https://localhost:8080/",
          "height": 34
        }
      },
      "source": [
        "table['RUB'].corr(table['JPY'])"
      ],
      "execution_count": 0,
      "outputs": [
        {
          "output_type": "execute_result",
          "data": {
            "text/plain": [
              "-0.9533765307205255"
            ]
          },
          "metadata": {
            "tags": []
          },
          "execution_count": 51
        }
      ]
    },
    {
      "cell_type": "markdown",
      "metadata": {
        "id": "gd4QnOdoFYBy",
        "colab_type": "text"
      },
      "source": [
        "Все статистики"
      ]
    },
    {
      "cell_type": "code",
      "metadata": {
        "id": "maSK6Im4FTrq",
        "colab_type": "code",
        "outputId": "8143ca77-970f-41a0-f0ab-8ee9da9b4304",
        "colab": {
          "base_uri": "https://localhost:8080/",
          "height": 300
        }
      },
      "source": [
        "table.describe()  "
      ],
      "execution_count": 0,
      "outputs": [
        {
          "output_type": "execute_result",
          "data": {
            "text/html": [
              "<div>\n",
              "<style scoped>\n",
              "    .dataframe tbody tr th:only-of-type {\n",
              "        vertical-align: middle;\n",
              "    }\n",
              "\n",
              "    .dataframe tbody tr th {\n",
              "        vertical-align: top;\n",
              "    }\n",
              "\n",
              "    .dataframe thead th {\n",
              "        text-align: right;\n",
              "    }\n",
              "</style>\n",
              "<table border=\"1\" class=\"dataframe\">\n",
              "  <thead>\n",
              "    <tr style=\"text-align: right;\">\n",
              "      <th></th>\n",
              "      <th>RUB</th>\n",
              "      <th>EUR</th>\n",
              "      <th>USD</th>\n",
              "      <th>JPY</th>\n",
              "    </tr>\n",
              "  </thead>\n",
              "  <tbody>\n",
              "    <tr>\n",
              "      <th>count</th>\n",
              "      <td>3.000000</td>\n",
              "      <td>2.000000</td>\n",
              "      <td>2.0000</td>\n",
              "      <td>3.000000</td>\n",
              "    </tr>\n",
              "    <tr>\n",
              "      <th>mean</th>\n",
              "      <td>81.333333</td>\n",
              "      <td>32.000000</td>\n",
              "      <td>39.5000</td>\n",
              "      <td>50.666667</td>\n",
              "    </tr>\n",
              "    <tr>\n",
              "      <th>std</th>\n",
              "      <td>50.964040</td>\n",
              "      <td>33.941125</td>\n",
              "      <td>41.7193</td>\n",
              "      <td>14.640128</td>\n",
              "    </tr>\n",
              "    <tr>\n",
              "      <th>min</th>\n",
              "      <td>48.000000</td>\n",
              "      <td>8.000000</td>\n",
              "      <td>10.0000</td>\n",
              "      <td>35.000000</td>\n",
              "    </tr>\n",
              "    <tr>\n",
              "      <th>25%</th>\n",
              "      <td>52.000000</td>\n",
              "      <td>20.000000</td>\n",
              "      <td>24.7500</td>\n",
              "      <td>44.000000</td>\n",
              "    </tr>\n",
              "    <tr>\n",
              "      <th>50%</th>\n",
              "      <td>56.000000</td>\n",
              "      <td>32.000000</td>\n",
              "      <td>39.5000</td>\n",
              "      <td>53.000000</td>\n",
              "    </tr>\n",
              "    <tr>\n",
              "      <th>75%</th>\n",
              "      <td>98.000000</td>\n",
              "      <td>44.000000</td>\n",
              "      <td>54.2500</td>\n",
              "      <td>58.500000</td>\n",
              "    </tr>\n",
              "    <tr>\n",
              "      <th>max</th>\n",
              "      <td>140.000000</td>\n",
              "      <td>56.000000</td>\n",
              "      <td>69.0000</td>\n",
              "      <td>64.000000</td>\n",
              "    </tr>\n",
              "  </tbody>\n",
              "</table>\n",
              "</div>"
            ],
            "text/plain": [
              "              RUB        EUR      USD        JPY\n",
              "count    3.000000   2.000000   2.0000   3.000000\n",
              "mean    81.333333  32.000000  39.5000  50.666667\n",
              "std     50.964040  33.941125  41.7193  14.640128\n",
              "min     48.000000   8.000000  10.0000  35.000000\n",
              "25%     52.000000  20.000000  24.7500  44.000000\n",
              "50%     56.000000  32.000000  39.5000  53.000000\n",
              "75%     98.000000  44.000000  54.2500  58.500000\n",
              "max    140.000000  56.000000  69.0000  64.000000"
            ]
          },
          "metadata": {
            "tags": []
          },
          "execution_count": 52
        }
      ]
    },
    {
      "cell_type": "markdown",
      "metadata": {
        "id": "p7pE8XQeH657",
        "colab_type": "text"
      },
      "source": [
        "## Практика"
      ]
    },
    {
      "cell_type": "markdown",
      "metadata": {
        "id": "QN1yVqciHXup",
        "colab_type": "text"
      },
      "source": [
        "![](https://www.peoplefluent.com/images/default-source/Blog-Images/practice8e4e87ca2fb261e58dd9ff0000a3f606.png?Status=Master&sfvrsn=0)\n",
        "\n"
      ]
    },
    {
      "cell_type": "code",
      "metadata": {
        "id": "j1o-638oKQXo",
        "colab_type": "code",
        "outputId": "00c710c9-5414-452d-e4c5-b069aa4f89d6",
        "colab": {
          "base_uri": "https://localhost:8080/",
          "height": 206
        }
      },
      "source": [
        "coins.tail()"
      ],
      "execution_count": 0,
      "outputs": [
        {
          "output_type": "execute_result",
          "data": {
            "text/html": [
              "<div>\n",
              "<style scoped>\n",
              "    .dataframe tbody tr th:only-of-type {\n",
              "        vertical-align: middle;\n",
              "    }\n",
              "\n",
              "    .dataframe tbody tr th {\n",
              "        vertical-align: top;\n",
              "    }\n",
              "\n",
              "    .dataframe thead th {\n",
              "        text-align: right;\n",
              "    }\n",
              "</style>\n",
              "<table border=\"1\" class=\"dataframe\">\n",
              "  <thead>\n",
              "    <tr style=\"text-align: right;\">\n",
              "      <th></th>\n",
              "      <th>date</th>\n",
              "      <th>price</th>\n",
              "      <th>txCount</th>\n",
              "      <th>txVolume</th>\n",
              "      <th>activeAddresses</th>\n",
              "      <th>symbol</th>\n",
              "      <th>name</th>\n",
              "      <th>open</th>\n",
              "      <th>high</th>\n",
              "      <th>low</th>\n",
              "      <th>close</th>\n",
              "      <th>volume</th>\n",
              "      <th>market</th>\n",
              "    </tr>\n",
              "  </thead>\n",
              "  <tbody>\n",
              "    <tr>\n",
              "      <th>37583</th>\n",
              "      <td>2018-06-06</td>\n",
              "      <td>0.293325</td>\n",
              "      <td>4830.0</td>\n",
              "      <td>2.312763e+05</td>\n",
              "      <td>659.0</td>\n",
              "      <td>XLM</td>\n",
              "      <td>Stellar</td>\n",
              "      <td>0.293325</td>\n",
              "      <td>0.299955</td>\n",
              "      <td>0.289500</td>\n",
              "      <td>0.298269</td>\n",
              "      <td>51165000.0</td>\n",
              "      <td>5.450080e+09</td>\n",
              "    </tr>\n",
              "    <tr>\n",
              "      <th>37584</th>\n",
              "      <td>2018-06-06</td>\n",
              "      <td>0.039586</td>\n",
              "      <td>7205.0</td>\n",
              "      <td>4.947760e+06</td>\n",
              "      <td>18228.0</td>\n",
              "      <td>XVG</td>\n",
              "      <td>Verge</td>\n",
              "      <td>0.039586</td>\n",
              "      <td>0.039737</td>\n",
              "      <td>0.037680</td>\n",
              "      <td>0.038797</td>\n",
              "      <td>9307450.0</td>\n",
              "      <td>5.959400e+08</td>\n",
              "    </tr>\n",
              "    <tr>\n",
              "      <th>37585</th>\n",
              "      <td>2018-06-06</td>\n",
              "      <td>239.760000</td>\n",
              "      <td>10687.0</td>\n",
              "      <td>3.986308e+07</td>\n",
              "      <td>96516.0</td>\n",
              "      <td>ZEC</td>\n",
              "      <td>Zcash</td>\n",
              "      <td>239.750000</td>\n",
              "      <td>240.340000</td>\n",
              "      <td>229.210000</td>\n",
              "      <td>236.050000</td>\n",
              "      <td>56887000.0</td>\n",
              "      <td>9.769940e+08</td>\n",
              "    </tr>\n",
              "    <tr>\n",
              "      <th>37586</th>\n",
              "      <td>2018-06-06</td>\n",
              "      <td>0.127555</td>\n",
              "      <td>1313.0</td>\n",
              "      <td>1.596436e+07</td>\n",
              "      <td>733.0</td>\n",
              "      <td>ZIL</td>\n",
              "      <td>Zilliqa</td>\n",
              "      <td>0.127555</td>\n",
              "      <td>0.133254</td>\n",
              "      <td>0.124194</td>\n",
              "      <td>0.131766</td>\n",
              "      <td>54667900.0</td>\n",
              "      <td>9.348810e+08</td>\n",
              "    </tr>\n",
              "    <tr>\n",
              "      <th>37587</th>\n",
              "      <td>2018-06-06</td>\n",
              "      <td>1.270000</td>\n",
              "      <td>795.0</td>\n",
              "      <td>6.094435e+06</td>\n",
              "      <td>599.0</td>\n",
              "      <td>ZRX</td>\n",
              "      <td>0x</td>\n",
              "      <td>1.270000</td>\n",
              "      <td>1.340000</td>\n",
              "      <td>1.250000</td>\n",
              "      <td>1.330000</td>\n",
              "      <td>17778000.0</td>\n",
              "      <td>6.741510e+08</td>\n",
              "    </tr>\n",
              "  </tbody>\n",
              "</table>\n",
              "</div>"
            ],
            "text/plain": [
              "             date       price  txCount  ...       close      volume        market\n",
              "37583  2018-06-06    0.293325   4830.0  ...    0.298269  51165000.0  5.450080e+09\n",
              "37584  2018-06-06    0.039586   7205.0  ...    0.038797   9307450.0  5.959400e+08\n",
              "37585  2018-06-06  239.760000  10687.0  ...  236.050000  56887000.0  9.769940e+08\n",
              "37586  2018-06-06    0.127555   1313.0  ...    0.131766  54667900.0  9.348810e+08\n",
              "37587  2018-06-06    1.270000    795.0  ...    1.330000  17778000.0  6.741510e+08\n",
              "\n",
              "[5 rows x 13 columns]"
            ]
          },
          "metadata": {
            "tags": []
          },
          "execution_count": 80
        }
      ]
    },
    {
      "cell_type": "markdown",
      "metadata": {
        "id": "DtnA_ZyvKGDf",
        "colab_type": "text"
      },
      "source": [
        "### Какая самая высокая цена монеты во всей таблице?"
      ]
    },
    {
      "cell_type": "code",
      "metadata": {
        "id": "tp75anXTHm3V",
        "colab_type": "code",
        "outputId": "3ecea548-bc83-4d10-a48a-d0cb37516a29",
        "colab": {
          "base_uri": "https://localhost:8080/",
          "height": 34
        }
      },
      "source": [
        "coins['price'].max()"
      ],
      "execution_count": 0,
      "outputs": [
        {
          "output_type": "execute_result",
          "data": {
            "text/plain": [
              "19475.8"
            ]
          },
          "metadata": {
            "tags": []
          },
          "execution_count": 82
        }
      ]
    },
    {
      "cell_type": "markdown",
      "metadata": {
        "id": "g-KRmYtXOTX3",
        "colab_type": "text"
      },
      "source": [
        "### У какой монеты была самая высокая цена?"
      ]
    },
    {
      "cell_type": "code",
      "metadata": {
        "id": "YSAao1imOYh9",
        "colab_type": "code",
        "outputId": "ec843444-4e47-4773-bf09-2b5881e626b1",
        "colab": {
          "base_uri": "https://localhost:8080/",
          "height": 81
        }
      },
      "source": [
        "coins.loc[(coins['price'] == coins['price'].max()), ['symbol']]"
      ],
      "execution_count": 0,
      "outputs": [
        {
          "output_type": "execute_result",
          "data": {
            "text/html": [
              "<div>\n",
              "<style scoped>\n",
              "    .dataframe tbody tr th:only-of-type {\n",
              "        vertical-align: middle;\n",
              "    }\n",
              "\n",
              "    .dataframe tbody tr th {\n",
              "        vertical-align: top;\n",
              "    }\n",
              "\n",
              "    .dataframe thead th {\n",
              "        text-align: right;\n",
              "    }\n",
              "</style>\n",
              "<table border=\"1\" class=\"dataframe\">\n",
              "  <thead>\n",
              "    <tr style=\"text-align: right;\">\n",
              "      <th></th>\n",
              "      <th>symbol</th>\n",
              "    </tr>\n",
              "  </thead>\n",
              "  <tbody>\n",
              "    <tr>\n",
              "      <th>25971</th>\n",
              "      <td>BTC</td>\n",
              "    </tr>\n",
              "  </tbody>\n",
              "</table>\n",
              "</div>"
            ],
            "text/plain": [
              "      symbol\n",
              "25971    BTC"
            ]
          },
          "metadata": {
            "tags": []
          },
          "execution_count": 98
        }
      ]
    },
    {
      "cell_type": "markdown",
      "metadata": {
        "id": "UiZ-uaeDKHwb",
        "colab_type": "text"
      },
      "source": [
        "### Cколько всего различных монет в таблице?\n",
        "\n"
      ]
    },
    {
      "cell_type": "code",
      "metadata": {
        "id": "vN_5hs3IKea-",
        "colab_type": "code",
        "outputId": "20fc405d-73ca-42f3-9bdb-7674e6c898ef",
        "colab": {
          "base_uri": "https://localhost:8080/",
          "height": 34
        }
      },
      "source": [
        "coins['symbol'].nunique()"
      ],
      "execution_count": 0,
      "outputs": [
        {
          "output_type": "execute_result",
          "data": {
            "text/plain": [
              "66"
            ]
          },
          "metadata": {
            "tags": []
          },
          "execution_count": 87
        }
      ]
    },
    {
      "cell_type": "markdown",
      "metadata": {
        "id": "fVOh3xrHLt5i",
        "colab_type": "text"
      },
      "source": [
        "### У каких монет минимальная цена опускалась ниже 1 USD?"
      ]
    },
    {
      "cell_type": "code",
      "metadata": {
        "id": "gVgyKlmiL3X-",
        "colab_type": "code",
        "outputId": "3f161f3c-b500-4b89-c3fa-67e55094a4d5",
        "colab": {
          "base_uri": "https://localhost:8080/",
          "height": 139
        }
      },
      "source": [
        "coins['symbol'][coins['low'] < 1].unique()"
      ],
      "execution_count": 0,
      "outputs": [
        {
          "output_type": "execute_result",
          "data": {
            "text/plain": [
              "array(['DOGE', 'VTC', 'DGB', 'DASH', 'MAID', 'XLM', 'XVG', 'USDT', 'XEM',\n",
              "       'ETH', 'DCR', 'PIVX', 'LSK', 'WAVES', 'ETC', 'REP', 'NEO', 'ICN',\n",
              "       'GNT', 'AE', 'BAT', 'VERI', 'FUN', 'SNT', 'EOS', 'PAY', 'BTM',\n",
              "       'OMG', 'PPT', 'CVC', 'ETHOS', 'BNB', 'ZRX', 'VEN', 'WTC', 'LRC',\n",
              "       'TRX', 'MANA', 'ADA', 'RHOC', 'ENG', 'AION', 'KNC', 'KCS', 'ICX',\n",
              "       'POWR', 'ANT', 'QASH', 'DRGN', 'ELF', 'SRN', 'ZIL', 'POLY',\n",
              "       'CENNZ', 'LOOM', 'CTXC'], dtype=object)"
            ]
          },
          "metadata": {
            "tags": []
          },
          "execution_count": 96
        }
      ]
    },
    {
      "cell_type": "markdown",
      "metadata": {
        "id": "qjf4dLzENiBZ",
        "colab_type": "text"
      },
      "source": [
        "### Выбрать из таблицы записи, когда цена биткоина меньше 100 USD\n"
      ]
    },
    {
      "cell_type": "code",
      "metadata": {
        "id": "gpQPeDLAOJHb",
        "colab_type": "code",
        "outputId": "5c08fe16-87da-46f9-d5c2-61d1b76af5b5",
        "colab": {
          "base_uri": "https://localhost:8080/",
          "height": 1000
        }
      },
      "source": [
        "coins[(coins['price'] < 100) & (coins['symbol'] == 'BTC')]"
      ],
      "execution_count": 0,
      "outputs": [
        {
          "output_type": "execute_result",
          "data": {
            "text/html": [
              "<div>\n",
              "<style scoped>\n",
              "    .dataframe tbody tr th:only-of-type {\n",
              "        vertical-align: middle;\n",
              "    }\n",
              "\n",
              "    .dataframe tbody tr th {\n",
              "        vertical-align: top;\n",
              "    }\n",
              "\n",
              "    .dataframe thead th {\n",
              "        text-align: right;\n",
              "    }\n",
              "</style>\n",
              "<table border=\"1\" class=\"dataframe\">\n",
              "  <thead>\n",
              "    <tr style=\"text-align: right;\">\n",
              "      <th></th>\n",
              "      <th>date</th>\n",
              "      <th>price</th>\n",
              "      <th>txCount</th>\n",
              "      <th>txVolume</th>\n",
              "      <th>activeAddresses</th>\n",
              "      <th>symbol</th>\n",
              "      <th>name</th>\n",
              "      <th>open</th>\n",
              "      <th>high</th>\n",
              "      <th>low</th>\n",
              "      <th>close</th>\n",
              "      <th>volume</th>\n",
              "      <th>market</th>\n",
              "    </tr>\n",
              "  </thead>\n",
              "  <tbody>\n",
              "    <tr>\n",
              "      <th>12</th>\n",
              "      <td>2013-05-04</td>\n",
              "      <td>98.10</td>\n",
              "      <td>50102.0</td>\n",
              "      <td>3.896570e+07</td>\n",
              "      <td>69959.0</td>\n",
              "      <td>BTC</td>\n",
              "      <td>Bitcoin</td>\n",
              "      <td>98.10</td>\n",
              "      <td>115.00</td>\n",
              "      <td>92.50</td>\n",
              "      <td>112.50</td>\n",
              "      <td>0.0</td>\n",
              "      <td>1.089890e+09</td>\n",
              "    </tr>\n",
              "    <tr>\n",
              "      <th>98</th>\n",
              "      <td>2013-06-16</td>\n",
              "      <td>99.80</td>\n",
              "      <td>42781.0</td>\n",
              "      <td>4.696943e+07</td>\n",
              "      <td>48785.0</td>\n",
              "      <td>BTC</td>\n",
              "      <td>Bitcoin</td>\n",
              "      <td>99.80</td>\n",
              "      <td>101.60</td>\n",
              "      <td>98.95</td>\n",
              "      <td>99.51</td>\n",
              "      <td>0.0</td>\n",
              "      <td>1.127120e+09</td>\n",
              "    </tr>\n",
              "    <tr>\n",
              "      <th>100</th>\n",
              "      <td>2013-06-17</td>\n",
              "      <td>99.90</td>\n",
              "      <td>45798.0</td>\n",
              "      <td>5.455223e+07</td>\n",
              "      <td>56902.0</td>\n",
              "      <td>BTC</td>\n",
              "      <td>Bitcoin</td>\n",
              "      <td>99.90</td>\n",
              "      <td>102.21</td>\n",
              "      <td>99.00</td>\n",
              "      <td>101.70</td>\n",
              "      <td>0.0</td>\n",
              "      <td>1.128720e+09</td>\n",
              "    </tr>\n",
              "    <tr>\n",
              "      <th>124</th>\n",
              "      <td>2013-06-29</td>\n",
              "      <td>94.66</td>\n",
              "      <td>36376.0</td>\n",
              "      <td>4.519440e+07</td>\n",
              "      <td>60980.0</td>\n",
              "      <td>BTC</td>\n",
              "      <td>Bitcoin</td>\n",
              "      <td>94.66</td>\n",
              "      <td>99.99</td>\n",
              "      <td>93.00</td>\n",
              "      <td>94.99</td>\n",
              "      <td>0.0</td>\n",
              "      <td>1.074010e+09</td>\n",
              "    </tr>\n",
              "    <tr>\n",
              "      <th>126</th>\n",
              "      <td>2013-06-30</td>\n",
              "      <td>95.00</td>\n",
              "      <td>30800.0</td>\n",
              "      <td>3.584930e+07</td>\n",
              "      <td>50485.0</td>\n",
              "      <td>BTC</td>\n",
              "      <td>Bitcoin</td>\n",
              "      <td>95.00</td>\n",
              "      <td>98.12</td>\n",
              "      <td>94.22</td>\n",
              "      <td>96.61</td>\n",
              "      <td>0.0</td>\n",
              "      <td>1.078260e+09</td>\n",
              "    </tr>\n",
              "    <tr>\n",
              "      <th>128</th>\n",
              "      <td>2013-07-01</td>\n",
              "      <td>97.51</td>\n",
              "      <td>38971.0</td>\n",
              "      <td>7.924107e+07</td>\n",
              "      <td>68676.0</td>\n",
              "      <td>BTC</td>\n",
              "      <td>Bitcoin</td>\n",
              "      <td>97.51</td>\n",
              "      <td>97.66</td>\n",
              "      <td>86.30</td>\n",
              "      <td>88.05</td>\n",
              "      <td>0.0</td>\n",
              "      <td>1.107130e+09</td>\n",
              "    </tr>\n",
              "    <tr>\n",
              "      <th>130</th>\n",
              "      <td>2013-07-02</td>\n",
              "      <td>88.05</td>\n",
              "      <td>39497.0</td>\n",
              "      <td>6.075140e+07</td>\n",
              "      <td>64157.0</td>\n",
              "      <td>BTC</td>\n",
              "      <td>Bitcoin</td>\n",
              "      <td>88.05</td>\n",
              "      <td>92.30</td>\n",
              "      <td>87.51</td>\n",
              "      <td>90.13</td>\n",
              "      <td>0.0</td>\n",
              "      <td>1.000070e+09</td>\n",
              "    </tr>\n",
              "    <tr>\n",
              "      <th>132</th>\n",
              "      <td>2013-07-03</td>\n",
              "      <td>90.40</td>\n",
              "      <td>35347.0</td>\n",
              "      <td>7.037771e+07</td>\n",
              "      <td>66024.0</td>\n",
              "      <td>BTC</td>\n",
              "      <td>Bitcoin</td>\n",
              "      <td>90.41</td>\n",
              "      <td>90.98</td>\n",
              "      <td>76.98</td>\n",
              "      <td>77.53</td>\n",
              "      <td>0.0</td>\n",
              "      <td>1.027160e+09</td>\n",
              "    </tr>\n",
              "    <tr>\n",
              "      <th>134</th>\n",
              "      <td>2013-07-04</td>\n",
              "      <td>78.89</td>\n",
              "      <td>35127.0</td>\n",
              "      <td>6.472570e+07</td>\n",
              "      <td>60868.0</td>\n",
              "      <td>BTC</td>\n",
              "      <td>Bitcoin</td>\n",
              "      <td>78.89</td>\n",
              "      <td>83.11</td>\n",
              "      <td>72.00</td>\n",
              "      <td>80.53</td>\n",
              "      <td>0.0</td>\n",
              "      <td>8.966930e+08</td>\n",
              "    </tr>\n",
              "    <tr>\n",
              "      <th>136</th>\n",
              "      <td>2013-07-05</td>\n",
              "      <td>79.99</td>\n",
              "      <td>36851.0</td>\n",
              "      <td>7.443116e+07</td>\n",
              "      <td>60509.0</td>\n",
              "      <td>BTC</td>\n",
              "      <td>Bitcoin</td>\n",
              "      <td>79.99</td>\n",
              "      <td>80.00</td>\n",
              "      <td>65.53</td>\n",
              "      <td>68.43</td>\n",
              "      <td>0.0</td>\n",
              "      <td>9.095260e+08</td>\n",
              "    </tr>\n",
              "    <tr>\n",
              "      <th>138</th>\n",
              "      <td>2013-07-06</td>\n",
              "      <td>68.50</td>\n",
              "      <td>33185.0</td>\n",
              "      <td>4.567676e+07</td>\n",
              "      <td>56535.0</td>\n",
              "      <td>BTC</td>\n",
              "      <td>Bitcoin</td>\n",
              "      <td>68.50</td>\n",
              "      <td>75.00</td>\n",
              "      <td>66.82</td>\n",
              "      <td>70.28</td>\n",
              "      <td>0.0</td>\n",
              "      <td>7.792550e+08</td>\n",
              "    </tr>\n",
              "    <tr>\n",
              "      <th>140</th>\n",
              "      <td>2013-07-07</td>\n",
              "      <td>68.75</td>\n",
              "      <td>30170.0</td>\n",
              "      <td>4.267731e+07</td>\n",
              "      <td>48847.0</td>\n",
              "      <td>BTC</td>\n",
              "      <td>Bitcoin</td>\n",
              "      <td>68.75</td>\n",
              "      <td>74.56</td>\n",
              "      <td>66.62</td>\n",
              "      <td>74.56</td>\n",
              "      <td>0.0</td>\n",
              "      <td>7.823520e+08</td>\n",
              "    </tr>\n",
              "    <tr>\n",
              "      <th>142</th>\n",
              "      <td>2013-07-08</td>\n",
              "      <td>76.50</td>\n",
              "      <td>39437.0</td>\n",
              "      <td>6.133086e+07</td>\n",
              "      <td>63045.0</td>\n",
              "      <td>BTC</td>\n",
              "      <td>Bitcoin</td>\n",
              "      <td>76.50</td>\n",
              "      <td>80.00</td>\n",
              "      <td>72.60</td>\n",
              "      <td>76.52</td>\n",
              "      <td>0.0</td>\n",
              "      <td>8.709120e+08</td>\n",
              "    </tr>\n",
              "    <tr>\n",
              "      <th>144</th>\n",
              "      <td>2013-07-09</td>\n",
              "      <td>76.00</td>\n",
              "      <td>40647.0</td>\n",
              "      <td>8.358037e+07</td>\n",
              "      <td>67986.0</td>\n",
              "      <td>BTC</td>\n",
              "      <td>Bitcoin</td>\n",
              "      <td>76.00</td>\n",
              "      <td>78.30</td>\n",
              "      <td>72.52</td>\n",
              "      <td>76.69</td>\n",
              "      <td>0.0</td>\n",
              "      <td>8.655850e+08</td>\n",
              "    </tr>\n",
              "    <tr>\n",
              "      <th>146</th>\n",
              "      <td>2013-07-10</td>\n",
              "      <td>76.72</td>\n",
              "      <td>39043.0</td>\n",
              "      <td>7.879264e+07</td>\n",
              "      <td>64858.0</td>\n",
              "      <td>BTC</td>\n",
              "      <td>Bitcoin</td>\n",
              "      <td>76.72</td>\n",
              "      <td>87.00</td>\n",
              "      <td>76.20</td>\n",
              "      <td>86.76</td>\n",
              "      <td>0.0</td>\n",
              "      <td>8.741380e+08</td>\n",
              "    </tr>\n",
              "    <tr>\n",
              "      <th>148</th>\n",
              "      <td>2013-07-11</td>\n",
              "      <td>88.00</td>\n",
              "      <td>43260.0</td>\n",
              "      <td>8.850196e+07</td>\n",
              "      <td>73357.0</td>\n",
              "      <td>BTC</td>\n",
              "      <td>Bitcoin</td>\n",
              "      <td>88.00</td>\n",
              "      <td>90.28</td>\n",
              "      <td>85.08</td>\n",
              "      <td>88.98</td>\n",
              "      <td>0.0</td>\n",
              "      <td>1.003090e+09</td>\n",
              "    </tr>\n",
              "    <tr>\n",
              "      <th>150</th>\n",
              "      <td>2013-07-12</td>\n",
              "      <td>88.98</td>\n",
              "      <td>48106.0</td>\n",
              "      <td>8.734705e+07</td>\n",
              "      <td>78450.0</td>\n",
              "      <td>BTC</td>\n",
              "      <td>Bitcoin</td>\n",
              "      <td>88.98</td>\n",
              "      <td>104.00</td>\n",
              "      <td>88.17</td>\n",
              "      <td>93.59</td>\n",
              "      <td>0.0</td>\n",
              "      <td>1.014640e+09</td>\n",
              "    </tr>\n",
              "    <tr>\n",
              "      <th>152</th>\n",
              "      <td>2013-07-13</td>\n",
              "      <td>93.99</td>\n",
              "      <td>37813.0</td>\n",
              "      <td>7.849324e+07</td>\n",
              "      <td>63116.0</td>\n",
              "      <td>BTC</td>\n",
              "      <td>Bitcoin</td>\n",
              "      <td>93.99</td>\n",
              "      <td>98.25</td>\n",
              "      <td>88.06</td>\n",
              "      <td>98.13</td>\n",
              "      <td>0.0</td>\n",
              "      <td>1.072140e+09</td>\n",
              "    </tr>\n",
              "    <tr>\n",
              "      <th>154</th>\n",
              "      <td>2013-07-14</td>\n",
              "      <td>98.70</td>\n",
              "      <td>34761.0</td>\n",
              "      <td>5.249909e+07</td>\n",
              "      <td>48402.0</td>\n",
              "      <td>BTC</td>\n",
              "      <td>Bitcoin</td>\n",
              "      <td>98.70</td>\n",
              "      <td>98.70</td>\n",
              "      <td>92.86</td>\n",
              "      <td>94.69</td>\n",
              "      <td>0.0</td>\n",
              "      <td>1.126260e+09</td>\n",
              "    </tr>\n",
              "    <tr>\n",
              "      <th>156</th>\n",
              "      <td>2013-07-15</td>\n",
              "      <td>93.61</td>\n",
              "      <td>36590.0</td>\n",
              "      <td>6.151268e+07</td>\n",
              "      <td>62325.0</td>\n",
              "      <td>BTC</td>\n",
              "      <td>Bitcoin</td>\n",
              "      <td>93.61</td>\n",
              "      <td>101.90</td>\n",
              "      <td>93.11</td>\n",
              "      <td>98.40</td>\n",
              "      <td>0.0</td>\n",
              "      <td>1.068520e+09</td>\n",
              "    </tr>\n",
              "    <tr>\n",
              "      <th>158</th>\n",
              "      <td>2013-07-16</td>\n",
              "      <td>98.89</td>\n",
              "      <td>39228.0</td>\n",
              "      <td>8.791158e+07</td>\n",
              "      <td>66221.0</td>\n",
              "      <td>BTC</td>\n",
              "      <td>Bitcoin</td>\n",
              "      <td>98.89</td>\n",
              "      <td>99.86</td>\n",
              "      <td>96.14</td>\n",
              "      <td>97.45</td>\n",
              "      <td>0.0</td>\n",
              "      <td>1.129260e+09</td>\n",
              "    </tr>\n",
              "    <tr>\n",
              "      <th>160</th>\n",
              "      <td>2013-07-17</td>\n",
              "      <td>96.71</td>\n",
              "      <td>40459.0</td>\n",
              "      <td>9.525461e+07</td>\n",
              "      <td>63007.0</td>\n",
              "      <td>BTC</td>\n",
              "      <td>Bitcoin</td>\n",
              "      <td>96.71</td>\n",
              "      <td>99.97</td>\n",
              "      <td>96.18</td>\n",
              "      <td>98.50</td>\n",
              "      <td>0.0</td>\n",
              "      <td>1.104760e+09</td>\n",
              "    </tr>\n",
              "    <tr>\n",
              "      <th>162</th>\n",
              "      <td>2013-07-18</td>\n",
              "      <td>98.50</td>\n",
              "      <td>41009.0</td>\n",
              "      <td>9.194928e+07</td>\n",
              "      <td>63178.0</td>\n",
              "      <td>BTC</td>\n",
              "      <td>Bitcoin</td>\n",
              "      <td>98.50</td>\n",
              "      <td>98.80</td>\n",
              "      <td>86.20</td>\n",
              "      <td>90.58</td>\n",
              "      <td>0.0</td>\n",
              "      <td>1.125660e+09</td>\n",
              "    </tr>\n",
              "    <tr>\n",
              "      <th>164</th>\n",
              "      <td>2013-07-19</td>\n",
              "      <td>90.07</td>\n",
              "      <td>36588.0</td>\n",
              "      <td>6.937507e+07</td>\n",
              "      <td>58759.0</td>\n",
              "      <td>BTC</td>\n",
              "      <td>Bitcoin</td>\n",
              "      <td>90.07</td>\n",
              "      <td>95.20</td>\n",
              "      <td>87.80</td>\n",
              "      <td>92.17</td>\n",
              "      <td>0.0</td>\n",
              "      <td>1.029670e+09</td>\n",
              "    </tr>\n",
              "    <tr>\n",
              "      <th>166</th>\n",
              "      <td>2013-07-20</td>\n",
              "      <td>92.00</td>\n",
              "      <td>33516.0</td>\n",
              "      <td>4.247105e+07</td>\n",
              "      <td>52399.0</td>\n",
              "      <td>BTC</td>\n",
              "      <td>Bitcoin</td>\n",
              "      <td>92.00</td>\n",
              "      <td>93.10</td>\n",
              "      <td>89.27</td>\n",
              "      <td>89.39</td>\n",
              "      <td>0.0</td>\n",
              "      <td>1.052140e+09</td>\n",
              "    </tr>\n",
              "    <tr>\n",
              "      <th>168</th>\n",
              "      <td>2013-07-21</td>\n",
              "      <td>89.82</td>\n",
              "      <td>35257.0</td>\n",
              "      <td>4.184802e+07</td>\n",
              "      <td>51123.0</td>\n",
              "      <td>BTC</td>\n",
              "      <td>Bitcoin</td>\n",
              "      <td>89.82</td>\n",
              "      <td>91.95</td>\n",
              "      <td>88.00</td>\n",
              "      <td>90.76</td>\n",
              "      <td>0.0</td>\n",
              "      <td>1.027640e+09</td>\n",
              "    </tr>\n",
              "    <tr>\n",
              "      <th>170</th>\n",
              "      <td>2013-07-22</td>\n",
              "      <td>92.00</td>\n",
              "      <td>39814.0</td>\n",
              "      <td>7.790764e+07</td>\n",
              "      <td>60318.0</td>\n",
              "      <td>BTC</td>\n",
              "      <td>Bitcoin</td>\n",
              "      <td>92.00</td>\n",
              "      <td>92.00</td>\n",
              "      <td>90.08</td>\n",
              "      <td>91.61</td>\n",
              "      <td>0.0</td>\n",
              "      <td>1.053000e+09</td>\n",
              "    </tr>\n",
              "    <tr>\n",
              "      <th>172</th>\n",
              "      <td>2013-07-23</td>\n",
              "      <td>91.60</td>\n",
              "      <td>38291.0</td>\n",
              "      <td>8.328477e+07</td>\n",
              "      <td>64299.0</td>\n",
              "      <td>BTC</td>\n",
              "      <td>Bitcoin</td>\n",
              "      <td>91.60</td>\n",
              "      <td>96.82</td>\n",
              "      <td>91.60</td>\n",
              "      <td>95.56</td>\n",
              "      <td>0.0</td>\n",
              "      <td>1.048820e+09</td>\n",
              "    </tr>\n",
              "    <tr>\n",
              "      <th>174</th>\n",
              "      <td>2013-07-24</td>\n",
              "      <td>95.56</td>\n",
              "      <td>42202.0</td>\n",
              "      <td>7.996295e+07</td>\n",
              "      <td>65888.0</td>\n",
              "      <td>BTC</td>\n",
              "      <td>Bitcoin</td>\n",
              "      <td>95.56</td>\n",
              "      <td>95.99</td>\n",
              "      <td>93.00</td>\n",
              "      <td>94.51</td>\n",
              "      <td>0.0</td>\n",
              "      <td>1.094490e+09</td>\n",
              "    </tr>\n",
              "    <tr>\n",
              "      <th>176</th>\n",
              "      <td>2013-07-25</td>\n",
              "      <td>94.50</td>\n",
              "      <td>42384.0</td>\n",
              "      <td>7.153660e+07</td>\n",
              "      <td>66440.0</td>\n",
              "      <td>BTC</td>\n",
              "      <td>Bitcoin</td>\n",
              "      <td>94.50</td>\n",
              "      <td>97.33</td>\n",
              "      <td>93.87</td>\n",
              "      <td>96.90</td>\n",
              "      <td>0.0</td>\n",
              "      <td>1.082800e+09</td>\n",
              "    </tr>\n",
              "    <tr>\n",
              "      <th>178</th>\n",
              "      <td>2013-07-26</td>\n",
              "      <td>96.95</td>\n",
              "      <td>37209.0</td>\n",
              "      <td>7.056459e+07</td>\n",
              "      <td>62558.0</td>\n",
              "      <td>BTC</td>\n",
              "      <td>Bitcoin</td>\n",
              "      <td>96.95</td>\n",
              "      <td>97.47</td>\n",
              "      <td>96.00</td>\n",
              "      <td>96.02</td>\n",
              "      <td>0.0</td>\n",
              "      <td>1.111160e+09</td>\n",
              "    </tr>\n",
              "    <tr>\n",
              "      <th>180</th>\n",
              "      <td>2013-07-27</td>\n",
              "      <td>96.02</td>\n",
              "      <td>36711.0</td>\n",
              "      <td>4.158844e+07</td>\n",
              "      <td>52438.0</td>\n",
              "      <td>BTC</td>\n",
              "      <td>Bitcoin</td>\n",
              "      <td>96.02</td>\n",
              "      <td>97.00</td>\n",
              "      <td>93.00</td>\n",
              "      <td>94.12</td>\n",
              "      <td>0.0</td>\n",
              "      <td>1.100900e+09</td>\n",
              "    </tr>\n",
              "    <tr>\n",
              "      <th>182</th>\n",
              "      <td>2013-07-28</td>\n",
              "      <td>94.40</td>\n",
              "      <td>37134.0</td>\n",
              "      <td>5.463939e+07</td>\n",
              "      <td>49179.0</td>\n",
              "      <td>BTC</td>\n",
              "      <td>Bitcoin</td>\n",
              "      <td>94.40</td>\n",
              "      <td>100.58</td>\n",
              "      <td>94.00</td>\n",
              "      <td>99.76</td>\n",
              "      <td>0.0</td>\n",
              "      <td>1.082750e+09</td>\n",
              "    </tr>\n",
              "    <tr>\n",
              "      <th>184</th>\n",
              "      <td>2013-07-29</td>\n",
              "      <td>98.60</td>\n",
              "      <td>41634.0</td>\n",
              "      <td>7.030931e+07</td>\n",
              "      <td>67473.0</td>\n",
              "      <td>BTC</td>\n",
              "      <td>Bitcoin</td>\n",
              "      <td>98.60</td>\n",
              "      <td>102.50</td>\n",
              "      <td>98.45</td>\n",
              "      <td>101.20</td>\n",
              "      <td>0.0</td>\n",
              "      <td>1.131340e+09</td>\n",
              "    </tr>\n",
              "  </tbody>\n",
              "</table>\n",
              "</div>"
            ],
            "text/plain": [
              "           date  price  txCount  ...   close  volume        market\n",
              "12   2013-05-04  98.10  50102.0  ...  112.50     0.0  1.089890e+09\n",
              "98   2013-06-16  99.80  42781.0  ...   99.51     0.0  1.127120e+09\n",
              "100  2013-06-17  99.90  45798.0  ...  101.70     0.0  1.128720e+09\n",
              "124  2013-06-29  94.66  36376.0  ...   94.99     0.0  1.074010e+09\n",
              "126  2013-06-30  95.00  30800.0  ...   96.61     0.0  1.078260e+09\n",
              "128  2013-07-01  97.51  38971.0  ...   88.05     0.0  1.107130e+09\n",
              "130  2013-07-02  88.05  39497.0  ...   90.13     0.0  1.000070e+09\n",
              "132  2013-07-03  90.40  35347.0  ...   77.53     0.0  1.027160e+09\n",
              "134  2013-07-04  78.89  35127.0  ...   80.53     0.0  8.966930e+08\n",
              "136  2013-07-05  79.99  36851.0  ...   68.43     0.0  9.095260e+08\n",
              "138  2013-07-06  68.50  33185.0  ...   70.28     0.0  7.792550e+08\n",
              "140  2013-07-07  68.75  30170.0  ...   74.56     0.0  7.823520e+08\n",
              "142  2013-07-08  76.50  39437.0  ...   76.52     0.0  8.709120e+08\n",
              "144  2013-07-09  76.00  40647.0  ...   76.69     0.0  8.655850e+08\n",
              "146  2013-07-10  76.72  39043.0  ...   86.76     0.0  8.741380e+08\n",
              "148  2013-07-11  88.00  43260.0  ...   88.98     0.0  1.003090e+09\n",
              "150  2013-07-12  88.98  48106.0  ...   93.59     0.0  1.014640e+09\n",
              "152  2013-07-13  93.99  37813.0  ...   98.13     0.0  1.072140e+09\n",
              "154  2013-07-14  98.70  34761.0  ...   94.69     0.0  1.126260e+09\n",
              "156  2013-07-15  93.61  36590.0  ...   98.40     0.0  1.068520e+09\n",
              "158  2013-07-16  98.89  39228.0  ...   97.45     0.0  1.129260e+09\n",
              "160  2013-07-17  96.71  40459.0  ...   98.50     0.0  1.104760e+09\n",
              "162  2013-07-18  98.50  41009.0  ...   90.58     0.0  1.125660e+09\n",
              "164  2013-07-19  90.07  36588.0  ...   92.17     0.0  1.029670e+09\n",
              "166  2013-07-20  92.00  33516.0  ...   89.39     0.0  1.052140e+09\n",
              "168  2013-07-21  89.82  35257.0  ...   90.76     0.0  1.027640e+09\n",
              "170  2013-07-22  92.00  39814.0  ...   91.61     0.0  1.053000e+09\n",
              "172  2013-07-23  91.60  38291.0  ...   95.56     0.0  1.048820e+09\n",
              "174  2013-07-24  95.56  42202.0  ...   94.51     0.0  1.094490e+09\n",
              "176  2013-07-25  94.50  42384.0  ...   96.90     0.0  1.082800e+09\n",
              "178  2013-07-26  96.95  37209.0  ...   96.02     0.0  1.111160e+09\n",
              "180  2013-07-27  96.02  36711.0  ...   94.12     0.0  1.100900e+09\n",
              "182  2013-07-28  94.40  37134.0  ...   99.76     0.0  1.082750e+09\n",
              "184  2013-07-29  98.60  41634.0  ...  101.20     0.0  1.131340e+09\n",
              "\n",
              "[34 rows x 13 columns]"
            ]
          },
          "metadata": {
            "tags": []
          },
          "execution_count": 97
        }
      ]
    },
    {
      "cell_type": "markdown",
      "metadata": {
        "id": "74a10D8rO2jp",
        "colab_type": "text"
      },
      "source": [
        "### Вывести запись с наибольшей разницей между максимальной и минимальной ценой криптовалюты."
      ]
    },
    {
      "cell_type": "code",
      "metadata": {
        "id": "ptzMlk-hO2Y5",
        "colab_type": "code",
        "outputId": "d1e705b3-1799-4342-bb34-74fde0191ce0",
        "colab": {
          "base_uri": "https://localhost:8080/",
          "height": 81
        }
      },
      "source": [
        "coins['spred'] = coins['high'] - coins['low']\n",
        "coins[ (coins['spred'] == coins['spred'].max()) ]"
      ],
      "execution_count": 0,
      "outputs": [
        {
          "output_type": "execute_result",
          "data": {
            "text/html": [
              "<div>\n",
              "<style scoped>\n",
              "    .dataframe tbody tr th:only-of-type {\n",
              "        vertical-align: middle;\n",
              "    }\n",
              "\n",
              "    .dataframe tbody tr th {\n",
              "        vertical-align: top;\n",
              "    }\n",
              "\n",
              "    .dataframe thead th {\n",
              "        text-align: right;\n",
              "    }\n",
              "</style>\n",
              "<table border=\"1\" class=\"dataframe\">\n",
              "  <thead>\n",
              "    <tr style=\"text-align: right;\">\n",
              "      <th></th>\n",
              "      <th>date</th>\n",
              "      <th>price</th>\n",
              "      <th>txCount</th>\n",
              "      <th>txVolume</th>\n",
              "      <th>activeAddresses</th>\n",
              "      <th>symbol</th>\n",
              "      <th>name</th>\n",
              "      <th>open</th>\n",
              "      <th>high</th>\n",
              "      <th>low</th>\n",
              "      <th>close</th>\n",
              "      <th>volume</th>\n",
              "      <th>market</th>\n",
              "      <th>spred</th>\n",
              "    </tr>\n",
              "  </thead>\n",
              "  <tbody>\n",
              "    <tr>\n",
              "      <th>26282</th>\n",
              "      <td>2017-12-22</td>\n",
              "      <td>15898.0</td>\n",
              "      <td>380493.0</td>\n",
              "      <td>2.132097e+10</td>\n",
              "      <td>1112381.0</td>\n",
              "      <td>BTC</td>\n",
              "      <td>Bitcoin</td>\n",
              "      <td>15898.0</td>\n",
              "      <td>15943.4</td>\n",
              "      <td>11833.0</td>\n",
              "      <td>13831.8</td>\n",
              "      <td>2.219800e+10</td>\n",
              "      <td>2.663810e+11</td>\n",
              "      <td>4110.4</td>\n",
              "    </tr>\n",
              "  </tbody>\n",
              "</table>\n",
              "</div>"
            ],
            "text/plain": [
              "             date    price   txCount  ...        volume        market   spred\n",
              "26282  2017-12-22  15898.0  380493.0  ...  2.219800e+10  2.663810e+11  4110.4\n",
              "\n",
              "[1 rows x 14 columns]"
            ]
          },
          "metadata": {
            "tags": []
          },
          "execution_count": 108
        }
      ]
    },
    {
      "cell_type": "markdown",
      "metadata": {
        "id": "BqCWxz1mDrHF",
        "colab_type": "text"
      },
      "source": [
        "# Matplotlib"
      ]
    },
    {
      "cell_type": "markdown",
      "metadata": {
        "id": "KB2zvSGKEUfL",
        "colab_type": "text"
      },
      "source": [
        "Matplotlib — это библиотека Python для работы с  графиками, которая является одной из самых популярных. Matplotlib может генерировать графики, гистограммы, спектры мощности, диаграммы ошибок и рассеяния. Он также легко интегрируется с такими библиотеками как Pandas и Seaborn для создания более сложных визуализаций."
      ]
    },
    {
      "cell_type": "markdown",
      "metadata": {
        "id": "2JjoocRNKfWq",
        "colab_type": "text"
      },
      "source": [
        "[Matplotlib examples](https://matplotlib.org/examples/index.html)"
      ]
    },
    {
      "cell_type": "code",
      "metadata": {
        "id": "c2uQFeE5E-cJ",
        "colab_type": "code",
        "colab": {}
      },
      "source": [
        "import matplotlib.pyplot as plt"
      ],
      "execution_count": 0,
      "outputs": []
    },
    {
      "cell_type": "code",
      "metadata": {
        "id": "emzcWqIPE-_W",
        "colab_type": "code",
        "colab": {}
      },
      "source": [
        "x = np.arange(0.0, 2*np.pi, 0.1)\n",
        "y = np.cos(x)"
      ],
      "execution_count": 0,
      "outputs": []
    },
    {
      "cell_type": "code",
      "metadata": {
        "id": "mXdL_FzzFXR8",
        "colab_type": "code",
        "outputId": "993ae6e2-a83d-4677-9cf0-b0594f5eddae",
        "colab": {
          "base_uri": "https://localhost:8080/",
          "height": 104
        }
      },
      "source": [
        "x"
      ],
      "execution_count": 0,
      "outputs": [
        {
          "output_type": "execute_result",
          "data": {
            "text/plain": [
              "array([0. , 0.1, 0.2, 0.3, 0.4, 0.5, 0.6, 0.7, 0.8, 0.9, 1. , 1.1, 1.2,\n",
              "       1.3, 1.4, 1.5, 1.6, 1.7, 1.8, 1.9, 2. , 2.1, 2.2, 2.3, 2.4, 2.5,\n",
              "       2.6, 2.7, 2.8, 2.9, 3. , 3.1, 3.2, 3.3, 3.4, 3.5, 3.6, 3.7, 3.8,\n",
              "       3.9, 4. , 4.1, 4.2, 4.3, 4.4, 4.5, 4.6, 4.7, 4.8, 4.9, 5. , 5.1,\n",
              "       5.2, 5.3, 5.4, 5.5, 5.6, 5.7, 5.8, 5.9, 6. , 6.1, 6.2])"
            ]
          },
          "metadata": {
            "tags": []
          },
          "execution_count": 64
        }
      ]
    },
    {
      "cell_type": "code",
      "metadata": {
        "id": "qoLeu-tNFX3U",
        "colab_type": "code",
        "outputId": "0d71694c-abc4-49b5-911f-fbc8bd2da042",
        "colab": {
          "base_uri": "https://localhost:8080/",
          "height": 243
        }
      },
      "source": [
        "y"
      ],
      "execution_count": 0,
      "outputs": [
        {
          "output_type": "execute_result",
          "data": {
            "text/plain": [
              "array([ 1.        ,  0.99500417,  0.98006658,  0.95533649,  0.92106099,\n",
              "        0.87758256,  0.82533561,  0.76484219,  0.69670671,  0.62160997,\n",
              "        0.54030231,  0.45359612,  0.36235775,  0.26749883,  0.16996714,\n",
              "        0.0707372 , -0.02919952, -0.12884449, -0.22720209, -0.32328957,\n",
              "       -0.41614684, -0.5048461 , -0.58850112, -0.66627602, -0.73739372,\n",
              "       -0.80114362, -0.85688875, -0.90407214, -0.94222234, -0.97095817,\n",
              "       -0.9899925 , -0.99913515, -0.99829478, -0.98747977, -0.96679819,\n",
              "       -0.93645669, -0.89675842, -0.84810003, -0.79096771, -0.7259323 ,\n",
              "       -0.65364362, -0.57482395, -0.49026082, -0.40079917, -0.30733287,\n",
              "       -0.2107958 , -0.11215253, -0.01238866,  0.08749898,  0.18651237,\n",
              "        0.28366219,  0.37797774,  0.46851667,  0.55437434,  0.63469288,\n",
              "        0.70866977,  0.77556588,  0.83471278,  0.88551952,  0.92747843,\n",
              "        0.96017029,  0.98326844,  0.9965421 ])"
            ]
          },
          "metadata": {
            "tags": []
          },
          "execution_count": 65
        }
      ]
    },
    {
      "cell_type": "code",
      "metadata": {
        "id": "1tzAtvUoFlBH",
        "colab_type": "code",
        "outputId": "a47b32e4-0e30-486d-c5e2-15bbd4497302",
        "colab": {
          "base_uri": "https://localhost:8080/",
          "height": 312
        }
      },
      "source": [
        "fig = plt.figure()\n",
        "plt.plot(x, y)\n",
        "plt.grid(True)\n",
        "\n",
        "plt.title('cos')\n",
        "plt.ylabel('y')\n",
        "plt.xlabel('x')"
      ],
      "execution_count": 0,
      "outputs": [
        {
          "output_type": "execute_result",
          "data": {
            "text/plain": [
              "Text(0.5, 0, 'x')"
            ]
          },
          "metadata": {
            "tags": []
          },
          "execution_count": 68
        },
        {
          "output_type": "display_data",
          "data": {
            "image/png": "[encoded data removed]",
            "text/plain": [
              "<Figure size 432x288 with 1 Axes>"
            ]
          },
          "metadata": {
            "tags": []
          }
        }
      ]
    },
    {
      "cell_type": "markdown",
      "metadata": {
        "id": "ypJSnl3SIGCo",
        "colab_type": "text"
      },
      "source": [
        "Построим доверительный интервал для функции."
      ]
    },
    {
      "cell_type": "code",
      "metadata": {
        "id": "CFhs3gTDIShz",
        "colab_type": "code",
        "colab": {}
      },
      "source": [
        "def gen_uncertain_data():\n",
        "    x = np.linspace(0, 10, 100) # 100 чисел от 0 до 10 включительно\n",
        "    y = np.sin(x/6*np.pi) + np.random.normal(0, 0.02, size=x.shape)\n",
        "    error = np.random.normal(0.1, 0.02, size=y.shape)\n",
        "    return x, y, error"
      ],
      "execution_count": 0,
      "outputs": []
    },
    {
      "cell_type": "code",
      "metadata": {
        "id": "FUOEDC3xIVoN",
        "colab_type": "code",
        "outputId": "e42c578f-e0a3-4d89-be3f-1300dbc9c68c",
        "colab": {
          "base_uri": "https://localhost:8080/",
          "height": 295
        }
      },
      "source": [
        "x, y, error = gen_uncertain_data()\n",
        "plt.title('Confidence Interval of a function')\n",
        "plt.xlabel('x')\n",
        "plt.ylabel('y (x)')\n",
        "plt.plot(x, y, color='blue')  \n",
        "plt.fill_between(x, y - error, y + error, color='g')\n",
        "plt.show()"
      ],
      "execution_count": 0,
      "outputs": [
        {
          "output_type": "display_data",
          "data": {
            "image/png": "[encoded data removed]",
            "text/plain": [
              "<Figure size 432x288 with 1 Axes>"
            ]
          },
          "metadata": {
            "tags": []
          }
        }
      ]
    },
    {
      "cell_type": "markdown",
      "metadata": {
        "id": "rdS36MsBJFrs",
        "colab_type": "text"
      },
      "source": [
        "Нарисуем гистограмму нормального распределения"
      ]
    },
    {
      "cell_type": "code",
      "metadata": {
        "id": "DceOKc-mGmQR",
        "colab_type": "code",
        "colab": {}
      },
      "source": [
        "mu, sigma = 0, 1\n",
        "y = np.random.normal(mu, sigma, 10000)"
      ],
      "execution_count": 0,
      "outputs": []
    },
    {
      "cell_type": "markdown",
      "metadata": {
        "id": "IiaVD5ZwNTbi",
        "colab_type": "text"
      },
      "source": [
        "`Bins` are the number of intervals you want to divide all of your data into, such that it can be displayed as bars on a histogram.  \n",
        "density :   If True, the first element of the return tuple will be the counts normalized to form a probability density, i.e., the area (or integral) under the histogram will sum to 1.   \n",
        "[matplotlib.pyplot.hist](https://matplotlib.org/3.1.0/api/_as_gen/matplotlib.pyplot.hist.html)"
      ]
    },
    {
      "cell_type": "code",
      "metadata": {
        "id": "5A8_9yjKHEls",
        "colab_type": "code",
        "outputId": "c722cc02-7972-4437-96fc-a3687df5a851",
        "colab": {
          "base_uri": "https://localhost:8080/",
          "height": 295
        }
      },
      "source": [
        "plt.hist(y, bins=50, facecolor=(0.5, 0.3, 0.77, 0.2), alpha=0.75) # color - rgba tuple\n",
        "\n",
        "plt.xlabel('Values')\n",
        "plt.ylabel('Count values')\n",
        "plt.title('Histogram')\n",
        "plt.text(-1, 100, r'$\\mu=0,\\ \\sigma=1$')\n",
        "# plt.axis([-2, 2, 0, 1])\n",
        "plt.grid(True)\n",
        "plt.show()"
      ],
      "execution_count": 0,
      "outputs": [
        {
          "output_type": "display_data",
          "data": {
            "image/png": "[encoded data removed]",
            "text/plain": [
              "<Figure size 432x288 with 1 Axes>"
            ]
          },
          "metadata": {
            "tags": []
          }
        }
      ]
    },
    {
      "cell_type": "markdown",
      "metadata": {
        "id": "6rtCHD3ZOT8u",
        "colab_type": "text"
      },
      "source": [
        "Теперь будем итерироваться по датам"
      ]
    },
    {
      "cell_type": "code",
      "metadata": {
        "id": "_jQ_EPYzOmEN",
        "colab_type": "code",
        "colab": {}
      },
      "source": [
        "df = coins.set_index(pd.DatetimeIndex(coins['date']))"
      ],
      "execution_count": 0,
      "outputs": []
    },
    {
      "cell_type": "code",
      "metadata": {
        "id": "rw7SAf2cQjuE",
        "colab_type": "code",
        "outputId": "70cfcc41-11f8-4571-b4f5-579946cbc22a",
        "colab": {
          "base_uri": "https://localhost:8080/",
          "height": 237
        }
      },
      "source": [
        "df.head()"
      ],
      "execution_count": 0,
      "outputs": [
        {
          "output_type": "execute_result",
          "data": {
            "text/html": [
              "<div>\n",
              "<style scoped>\n",
              "    .dataframe tbody tr th:only-of-type {\n",
              "        vertical-align: middle;\n",
              "    }\n",
              "\n",
              "    .dataframe tbody tr th {\n",
              "        vertical-align: top;\n",
              "    }\n",
              "\n",
              "    .dataframe thead th {\n",
              "        text-align: right;\n",
              "    }\n",
              "</style>\n",
              "<table border=\"1\" class=\"dataframe\">\n",
              "  <thead>\n",
              "    <tr style=\"text-align: right;\">\n",
              "      <th></th>\n",
              "      <th>date</th>\n",
              "      <th>price</th>\n",
              "      <th>txCount</th>\n",
              "      <th>txVolume</th>\n",
              "      <th>activeAddresses</th>\n",
              "      <th>symbol</th>\n",
              "      <th>name</th>\n",
              "      <th>open</th>\n",
              "      <th>high</th>\n",
              "      <th>low</th>\n",
              "      <th>close</th>\n",
              "      <th>volume</th>\n",
              "      <th>market</th>\n",
              "    </tr>\n",
              "    <tr>\n",
              "      <th>date</th>\n",
              "      <th></th>\n",
              "      <th></th>\n",
              "      <th></th>\n",
              "      <th></th>\n",
              "      <th></th>\n",
              "      <th></th>\n",
              "      <th></th>\n",
              "      <th></th>\n",
              "      <th></th>\n",
              "      <th></th>\n",
              "      <th></th>\n",
              "      <th></th>\n",
              "      <th></th>\n",
              "    </tr>\n",
              "  </thead>\n",
              "  <tbody>\n",
              "    <tr>\n",
              "      <th>2013-04-28</th>\n",
              "      <td>2013-04-28</td>\n",
              "      <td>135.30</td>\n",
              "      <td>41702.0</td>\n",
              "      <td>6.879868e+07</td>\n",
              "      <td>117984.0</td>\n",
              "      <td>BTC</td>\n",
              "      <td>Bitcoin</td>\n",
              "      <td>135.30</td>\n",
              "      <td>135.98</td>\n",
              "      <td>132.10</td>\n",
              "      <td>134.21</td>\n",
              "      <td>0.0</td>\n",
              "      <td>1.500520e+09</td>\n",
              "    </tr>\n",
              "    <tr>\n",
              "      <th>2013-04-28</th>\n",
              "      <td>2013-04-28</td>\n",
              "      <td>4.30</td>\n",
              "      <td>9174.0</td>\n",
              "      <td>4.431952e+07</td>\n",
              "      <td>17216.0</td>\n",
              "      <td>LTC</td>\n",
              "      <td>Litecoin</td>\n",
              "      <td>4.30</td>\n",
              "      <td>4.40</td>\n",
              "      <td>4.18</td>\n",
              "      <td>4.35</td>\n",
              "      <td>0.0</td>\n",
              "      <td>7.377340e+07</td>\n",
              "    </tr>\n",
              "    <tr>\n",
              "      <th>2013-04-29</th>\n",
              "      <td>2013-04-29</td>\n",
              "      <td>134.44</td>\n",
              "      <td>51602.0</td>\n",
              "      <td>1.138128e+08</td>\n",
              "      <td>86925.0</td>\n",
              "      <td>BTC</td>\n",
              "      <td>Bitcoin</td>\n",
              "      <td>134.44</td>\n",
              "      <td>147.49</td>\n",
              "      <td>134.00</td>\n",
              "      <td>144.54</td>\n",
              "      <td>0.0</td>\n",
              "      <td>1.491160e+09</td>\n",
              "    </tr>\n",
              "    <tr>\n",
              "      <th>2013-04-29</th>\n",
              "      <td>2013-04-29</td>\n",
              "      <td>4.37</td>\n",
              "      <td>9275.0</td>\n",
              "      <td>3.647810e+07</td>\n",
              "      <td>18395.0</td>\n",
              "      <td>LTC</td>\n",
              "      <td>Litecoin</td>\n",
              "      <td>4.37</td>\n",
              "      <td>4.57</td>\n",
              "      <td>4.23</td>\n",
              "      <td>4.38</td>\n",
              "      <td>0.0</td>\n",
              "      <td>7.495270e+07</td>\n",
              "    </tr>\n",
              "    <tr>\n",
              "      <th>2013-04-30</th>\n",
              "      <td>2013-04-30</td>\n",
              "      <td>144.00</td>\n",
              "      <td>47450.0</td>\n",
              "      <td>8.426632e+07</td>\n",
              "      <td>76871.0</td>\n",
              "      <td>BTC</td>\n",
              "      <td>Bitcoin</td>\n",
              "      <td>144.00</td>\n",
              "      <td>146.93</td>\n",
              "      <td>134.05</td>\n",
              "      <td>139.00</td>\n",
              "      <td>0.0</td>\n",
              "      <td>1.597780e+09</td>\n",
              "    </tr>\n",
              "  </tbody>\n",
              "</table>\n",
              "</div>"
            ],
            "text/plain": [
              "                  date   price  txCount  ...   close  volume        market\n",
              "date                                     ...                              \n",
              "2013-04-28  2013-04-28  135.30  41702.0  ...  134.21     0.0  1.500520e+09\n",
              "2013-04-28  2013-04-28    4.30   9174.0  ...    4.35     0.0  7.377340e+07\n",
              "2013-04-29  2013-04-29  134.44  51602.0  ...  144.54     0.0  1.491160e+09\n",
              "2013-04-29  2013-04-29    4.37   9275.0  ...    4.38     0.0  7.495270e+07\n",
              "2013-04-30  2013-04-30  144.00  47450.0  ...  139.00     0.0  1.597780e+09\n",
              "\n",
              "[5 rows x 13 columns]"
            ]
          },
          "metadata": {
            "tags": []
          },
          "execution_count": 34
        }
      ]
    },
    {
      "cell_type": "markdown",
      "metadata": {
        "id": "51dJ73KK7w17",
        "colab_type": "text"
      },
      "source": [
        "### Нарисовать график цены биткоина"
      ]
    },
    {
      "cell_type": "code",
      "metadata": {
        "id": "XQRTRzVo6rrT",
        "colab_type": "code",
        "outputId": "bc963bdc-70ca-4a58-b8ed-ba7e08e299db",
        "colab": {
          "base_uri": "https://localhost:8080/",
          "height": 312
        }
      },
      "source": [
        "df.loc[(df['symbol'] == 'BTC'),['price']].plot()\n",
        "plt.title('BTC')\n",
        "plt.ylabel('price')"
      ],
      "execution_count": 0,
      "outputs": [
        {
          "output_type": "execute_result",
          "data": {
            "text/plain": [
              "Text(0, 0.5, 'price')"
            ]
          },
          "metadata": {
            "tags": []
          },
          "execution_count": 38
        },
        {
          "output_type": "display_data",
          "data": {
            "image/png": "[encoded data removed]",
            "text/plain": [
              "<Figure size 432x288 with 1 Axes>"
            ]
          },
          "metadata": {
            "tags": []
          }
        }
      ]
    },
    {
      "cell_type": "markdown",
      "metadata": {
        "id": "Bkf2NxPhUpm2",
        "colab_type": "text"
      },
      "source": [
        "### Нарисовать пирожковую диаграмму соотношения монет в интервале от 10 июня 2017 до 21 августа 2017.  \n",
        "[plot.pie](https://pandas.pydata.org/pandas-docs/stable/reference/api/pandas.DataFrame.plot.pie.html)"
      ]
    },
    {
      "cell_type": "code",
      "metadata": {
        "id": "gxBhLcwxUXhS",
        "colab_type": "code",
        "outputId": "87451998-ff75-42f3-eb4e-71eaf3225eb1",
        "colab": {
          "base_uri": "https://localhost:8080/",
          "height": 870
        }
      },
      "source": [
        "roi = coins.loc[(coins['date'] > '2017-06-10') & (coins['date'] < '2017-08-21'), ['symbol']]\n",
        "\n",
        "price = roi['symbol'].value_counts()\n",
        "\n",
        "price.plot.pie(figsize=(20, 15))  # figsize : a tuple (width, height) in inches"
      ],
      "execution_count": 0,
      "outputs": [
        {
          "output_type": "execute_result",
          "data": {
            "text/plain": [
              "<matplotlib.axes._subplots.AxesSubplot at 0x7f9be7d0b7b8>"
            ]
          },
          "metadata": {
            "tags": []
          },
          "execution_count": 47
        },
        {
          "output_type": "display_data",
          "data": {
            "image/png": "[encoded data removed]",
            "text/plain": [
              "<Figure size 1440x1080 with 1 Axes>"
            ]
          },
          "metadata": {
            "tags": []
          }
        }
      ]
    },
    {
      "cell_type": "markdown",
      "metadata": {
        "id": "kTWEAudn70OL",
        "colab_type": "text"
      },
      "source": [
        "### Нарисовать график курса NAS и PAY с доверительными интерваломи от low до high в диапазоне с 10 января 2018 по 25 января 2018.   \n",
        "Для рисования цены воспользуйтесь plt.[plot_date](https://matplotlib.org/3.1.0/api/_as_gen/matplotlib.pyplot.plot_date.html?highlight=plot_date#matplotlib.pyplot.plot_date). Чтобы даты отображались красиво поверните их на 30 градусов [plt.xticks](https://matplotlib.org/3.1.0/api/_as_gen/matplotlib.pyplot.xticks.html). Не забудьте указать в легенде названия монет."
      ]
    },
    {
      "cell_type": "code",
      "metadata": {
        "id": "JLYAnsfvTGAA",
        "colab_type": "code",
        "outputId": "7e751e58-dc87-4019-d524-7350c8f34ce6",
        "colab": {
          "base_uri": "https://localhost:8080/",
          "height": 323
        }
      },
      "source": [
        "roi = df.loc[(df['date'] > '2018-01-10') & (df['date'] < '2018-01-25') & (df['symbol'] == 'NAS'), ['price', 'date', 'high', 'low']]\n",
        "ltc = df.loc[(df['date'] > '2018-01-10') & (df['date'] < '2018-01-25') & (df['symbol'] == 'PAY'), ['price', 'date', 'high', 'low']]\n",
        "\n",
        "fig, ax = plt.subplots()\n",
        "plt.title('Rates')\n",
        "plt.xlabel('date')\n",
        "plt.ylabel('price')\n",
        "\n",
        "plt.plot_date(roi['date'], roi['price'], '-', label='NAS')\n",
        "plt.plot_date(ltc['date'], ltc['price'], '-', label='PAY')\n",
        "\n",
        "plt.fill_between(roi['date'].values, roi['low'], roi['high'], color='g', alpha=0.3) # alpha from rgba\n",
        "plt.fill_between(ltc['date'].values, ltc['low'], ltc['high'], color='y', alpha=0.3) # alpha from rgba\n",
        "\n",
        "plt.xticks(rotation=30)\n",
        "leg = ax.legend()\n",
        "plt.show()"
      ],
      "execution_count": 0,
      "outputs": [
        {
          "output_type": "display_data",
          "data": {
            "image/png": "[encoded data removed]",
            "text/plain": [
              "<Figure size 432x288 with 1 Axes>"
            ]
          },
          "metadata": {
            "tags": []
          }
        }
      ]
    }
  ]
}